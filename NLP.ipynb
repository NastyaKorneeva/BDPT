{
 "cells": [
  {
   "cell_type": "markdown",
   "metadata": {},
   "source": [
    "# Введение в обработку текста на естественном языке"
   ]
  },
  {
   "cell_type": "markdown",
   "metadata": {},
   "source": [
    "__Автор задач: Блохин Н.В. (NVBlokhin@fa.ru)__"
   ]
  },
  {
   "cell_type": "markdown",
   "metadata": {},
   "source": [
    "## Лабораторная работа 7"
   ]
  },
  {
   "cell_type": "code",
   "execution_count": 1,
   "metadata": {},
   "outputs": [],
   "source": [
    "import pandas as pd\n",
    "import re"
   ]
  },
  {
   "cell_type": "markdown",
   "metadata": {},
   "source": [
    "1\\. Загрузите данные из файла `ru_recipes_sample.csv` в виде `pd.DataFrame` `recipes` Используя регулярные выражения, удалите из описаний (столбец `description`) все символы, кроме русских букв, цифр и пробелов. Приведите все слова в описании к нижнему регистру. Сохраните полученный результат в столбец `description`."
   ]
  },
  {
   "cell_type": "code",
   "execution_count": 2,
   "metadata": {},
   "outputs": [],
   "source": [
    "recipes = pd.read_csv('ru_recipes_sample.csv', sep = ',')"
   ]
  },
  {
   "cell_type": "code",
   "execution_count": 3,
   "metadata": {},
   "outputs": [
    {
     "name": "stdout",
     "output_type": "stream",
     "text": [
      "- И три корочки хлеба! - сделал заказ Буратино в таверне по дороге в Страну Дураков. \r\n",
      "\r\n",
      "- Ну хотя бы... под соусом болоньез, per favore! - попросил бы Пиноккио. \r\n",
      "\r\n",
      "Ну, а почему бы и нет? - подумала я. \r\n",
      " \r\n",
      " \"Говорят, под Новый год, \r\n",
      " Что ни пожелаешь:\r\n",
      " Всe всегда произойдeт, \r\n",
      " Всe всегда сбывается!...!\r\n",
      "\r\n",
      " А мы подружим - наших таких одинаковых и таких разных - задорных мальчишек из разных стран и сказок в нашем рецепте. (Лучше поздно, чем никогда, правда ведь?)\r\n",
      "\r\n",
      " Итак, под Новый год волшебная сказка превращается в настоящее чудо!\n"
     ]
    }
   ],
   "source": [
    "print(recipes.description[3466])"
   ]
  },
  {
   "cell_type": "code",
   "execution_count": 4,
   "metadata": {},
   "outputs": [
    {
     "data": {
      "text/plain": [
       "0       Этот коктейль готовлю из замороженной клубники...\n",
       "1                                        Быстро и вкусно.\n",
       "2             Сытный, овощной салатик, пальчики оближете.\n",
       "3       Картофельное пюре и куриные котлеты - вкусная ...\n",
       "4       Вишневая наливка имеет яркий вишневый вкус, ко...\n",
       "                              ...                        \n",
       "3462    Для тех, кто любит чечевицу... Вам сюда! Очень...\n",
       "3463    Баклажановые фантазии продолжаются! Предлагаю ...\n",
       "3464    Мое любимое блюдо лазанья. Но кушать только фа...\n",
       "3465    Прошлым летом варила варенье из одуванчиков по...\n",
       "3466    - И три корочки хлеба! - сделал заказ Буратино...\n",
       "Name: description, Length: 3467, dtype: object"
      ]
     },
     "execution_count": 4,
     "metadata": {},
     "output_type": "execute_result"
    }
   ],
   "source": [
    "recipes.description"
   ]
  },
  {
   "cell_type": "code",
   "execution_count": 3,
   "metadata": {},
   "outputs": [],
   "source": [
    "def delete_description_without_Russians_recipes(text):\n",
    "    res = re.sub(r'[^\\d а-яА-Я]+', ' ', text)\n",
    "    res = re.sub(r' +', ' ', res)\n",
    "    res = res.strip()\n",
    "    return res.lower()"
   ]
  },
  {
   "cell_type": "code",
   "execution_count": 5,
   "metadata": {},
   "outputs": [
    {
     "name": "stdout",
     "output_type": "stream",
     "text": [
      "CPU times: user 89.8 ms, sys: 3.53 ms, total: 93.4 ms\n",
      "Wall time: 90.9 ms\n"
     ]
    },
    {
     "data": {
      "text/plain": [
       "'и три корочки хлеба сделал заказ буратино в таверне по дороге в страну дураков ну хотя бы под соусом болоньез попросил бы пиноккио ну а почему бы и нет подумала я говорят под новый год что ни пожелаешь вс всегда произойд т вс всегда сбывается а мы подружим наших таких одинаковых и таких разных задорных мальчишек из разных стран и сказок в нашем рецепте лучше поздно чем никогда правда ведь итак под новый год волшебная сказка превращается в настоящее чудо'"
      ]
     },
     "execution_count": 5,
     "metadata": {},
     "output_type": "execute_result"
    }
   ],
   "source": [
    "%%time\n",
    "recipes['description'].map(delete_description_without_Russians_recipes)[3466]"
   ]
  },
  {
   "cell_type": "code",
   "execution_count": 137,
   "metadata": {},
   "outputs": [],
   "source": [
    "recipes['description'] = recipes['description'].map(delete_description_without_Russians_recipes)"
   ]
  },
  {
   "cell_type": "markdown",
   "metadata": {},
   "source": [
    "### Расстояние редактирования"
   ]
  },
  {
   "cell_type": "markdown",
   "metadata": {},
   "source": [
    "2\\. Получите набор уникальных слов `words`, содержащихся в текстах описаний рецептов (воспользуйтесь `word_tokenize` из `nltk`). Сгенерируйте 5 пар случайно выбранных слов и посчитайте между ними расстояние Левенштейна. Выведите на экран результат в следующем виде:\n",
    "\n",
    "```\n",
    "d(word1, word2) = x\n",
    "```"
   ]
  },
  {
   "cell_type": "code",
   "execution_count": 53,
   "metadata": {},
   "outputs": [],
   "source": [
    "from nltk import word_tokenize, edit_distance"
   ]
  },
  {
   "cell_type": "code",
   "execution_count": 251,
   "metadata": {},
   "outputs": [],
   "source": [
    "text_nltk = ' '.join(recipes.description)\n",
    "words = word_tokenize(text_nltk)"
   ]
  },
  {
   "cell_type": "code",
   "execution_count": 73,
   "metadata": {},
   "outputs": [],
   "source": [
    "import numpy as np"
   ]
  },
  {
   "cell_type": "code",
   "execution_count": 96,
   "metadata": {},
   "outputs": [],
   "source": [
    "random_words = np.random.choice(words, size = (2, 5), replace = False)"
   ]
  },
  {
   "cell_type": "code",
   "execution_count": 97,
   "metadata": {},
   "outputs": [
    {
     "data": {
      "text/plain": [
       "array([['Подходит', 'у', 'и', 'по', 'салате'],\n",
       "       ['со', 'упустила', 'подается', 'жена', 'сравниться']], dtype='<U38')"
      ]
     },
     "execution_count": 97,
     "metadata": {},
     "output_type": "execute_result"
    }
   ],
   "source": [
    "random_words"
   ]
  },
  {
   "cell_type": "code",
   "execution_count": 128,
   "metadata": {},
   "outputs": [
    {
     "name": "stdout",
     "output_type": "stream",
     "text": [
      "d(Подходит, со) = 7\n",
      "d(у, упустила) = 7\n",
      "d(и, подается) = 8\n",
      "d(по, жена) = 4\n",
      "d(салате, сравниться) = 7\n"
     ]
    }
   ],
   "source": [
    "for i in range(len(random_words.T)):\n",
    "    print(f'''d({random_words[0][i]}, {random_words[1][i]}) = \\\n",
    "{edit_distance(random_words[0][i], random_words[1][i])}''')"
   ]
  },
  {
   "cell_type": "markdown",
   "metadata": {},
   "source": [
    "3\\. Напишите функцию, которая принимает на вход 2 текстовые строки `s1` и `s2` и при помощи расстояния Левенштейна определяет, является ли строка `s2` плагиатом `s1`. Функция должна реализовывать следующую логику: для каждого слова `w1` из `s1` проверяет, есть в `s2` хотя бы одно слово `w2`, такое, что расстояние Левенштейна между `w1` и `w2` меньше 2, и считает количество таких слов в `s1` $P$. \n",
    "\n",
    "$$ P = \\#\\{w_1 \\in s_1\\ | \\exists w_2 \\in s_2 : d(w_1, w_2) < tol\\}$$\n",
    "\n",
    "$$ L = max(|s1|, |s2|) $$\n",
    "\n",
    "Здесь $|\\cdot|$ - количество слов в строке, $\\#A$ - число элементов в множестве $A$, $w \\in s$ означает, что слово $w$ содержится в тексте $s$.\n",
    "\n",
    "Если отношение $P / L$ больше 0.8, то функция должна вернуть True; иначе False.\n",
    "\n",
    "Продемонстрируйте работу вашей функции на примере описаний двух рецептов с ID 135488 и 851934 (ID рецепта - это число, стоящее в конце url рецепта). Выведите на экран описания этих рецептов и результат работы функции."
   ]
  },
  {
   "cell_type": "code",
   "execution_count": 148,
   "metadata": {},
   "outputs": [
    {
     "name": "stdout",
     "output_type": "stream",
     "text": [
      "Requirement already satisfied: nums_from_string in /Users/nastya/opt/anaconda3/lib/python3.9/site-packages (0.1.2)\r\n"
     ]
    }
   ],
   "source": [
    "!pip install nums_from_string"
   ]
  },
  {
   "cell_type": "code",
   "execution_count": 149,
   "metadata": {},
   "outputs": [],
   "source": [
    "import nums_from_string"
   ]
  },
  {
   "cell_type": "code",
   "execution_count": 249,
   "metadata": {},
   "outputs": [],
   "source": [
    "def is_plagiarism(s1: str, s2: str) -> bool:\n",
    "    \n",
    "    s1 = word_tokenize(s1)\n",
    "    s2 = word_tokenize(s2)\n",
    "    P = 0\n",
    "    \n",
    "    for w1 in s1:\n",
    "        for w2 in s2:\n",
    "            if edit_distance(w1, w2) < 2:\n",
    "                P += 1\n",
    "                break\n",
    "            \n",
    "    L = max(len(s1), len(s2))\n",
    "    print(P, L)\n",
    "    \n",
    "    if P/L > 0.8:\n",
    "        return True\n",
    "    return False"
   ]
  },
  {
   "cell_type": "code",
   "execution_count": 175,
   "metadata": {},
   "outputs": [],
   "source": [
    "def nums_from_string_for_url(url):\n",
    "    return nums_from_string.get_nums(url)[0]"
   ]
  },
  {
   "cell_type": "code",
   "execution_count": 188,
   "metadata": {},
   "outputs": [],
   "source": [
    "recipes_135488 = recipes.description[recipes['url'].map(nums_from_string_for_url) == 135488].tolist()[0]\n",
    "recipes_851934 = recipes.description[recipes['url'].map(nums_from_string_for_url) == 851934].tolist()[0]"
   ]
  },
  {
   "cell_type": "code",
   "execution_count": 207,
   "metadata": {},
   "outputs": [
    {
     "data": {
      "text/plain": [
       "'замечательной закуской к напиткам на фуршетном столе станет паштет из сала и авокадо с чесноком куда мы добавим орешков из бородинского хлеба положив в середину маслины закуска получается крайне необычной оригинальной и ценится особенно мужчинами'"
      ]
     },
     "execution_count": 207,
     "metadata": {},
     "output_type": "execute_result"
    }
   ],
   "source": [
    "recipes_851934"
   ]
  },
  {
   "cell_type": "code",
   "execution_count": 208,
   "metadata": {},
   "outputs": [
    {
     "data": {
      "text/plain": [
       "'прекрасной закуской к крепким напиткам на фуршетном столе станет паштет из сала и авокадо с чесноком который мы спрячем в орешках из бородинского хлеба положив в середину маслину закуска получается необычной оригинальной и ценится особенно мужчинами'"
      ]
     },
     "execution_count": 208,
     "metadata": {},
     "output_type": "execute_result"
    }
   ],
   "source": [
    "recipes_135488"
   ]
  },
  {
   "cell_type": "code",
   "execution_count": 250,
   "metadata": {},
   "outputs": [
    {
     "name": "stdout",
     "output_type": "stream",
     "text": [
      "31 36\n"
     ]
    },
    {
     "data": {
      "text/plain": [
       "True"
      ]
     },
     "execution_count": 250,
     "metadata": {},
     "output_type": "execute_result"
    }
   ],
   "source": [
    "is_plagiarism(recipes_135488, recipes_851934)"
   ]
  },
  {
   "cell_type": "markdown",
   "metadata": {},
   "source": [
    "### Стемминг, лемматизация"
   ]
  },
  {
   "cell_type": "markdown",
   "metadata": {},
   "source": [
    "4\\. На основе набора слов из задания 2 создайте `pd.DataFrame` со столбцами `word`, `stemmed_word` и `normalized_word`. В столбец `stemmed_word` поместите версию слова после проведения процедуры стемминга; в столбец `normalized_word` поместите версию слова после проведения процедуры лемматизации. Столбец `word` укажите в качестве индекса. \n",
    "\n",
    "Для стемминга можно воспользоваться `SnowballStemmer` из `nltk`, для лемматизации слов - пакетом `pymorphy2`. Сравните результаты стемминга и лемматизации. Поясните на примере одной из строк получившегося фрейма (в виде текстового комментария), в чем разница между двумя этими подходами. "
   ]
  },
  {
   "cell_type": "code",
   "execution_count": 253,
   "metadata": {},
   "outputs": [],
   "source": [
    "stemmer = SnowballStemmer('russian')\n",
    "morph = pymorphy2.MorphAnalyzer()"
   ]
  },
  {
   "cell_type": "code",
   "execution_count": 256,
   "metadata": {},
   "outputs": [],
   "source": [
    "stem_words = [stemmer.stem(w) for w in words]\n",
    "norm_words = [morph.parse(w)[0].normalized.word for w in words]"
   ]
  },
  {
   "cell_type": "code",
   "execution_count": 285,
   "metadata": {},
   "outputs": [
    {
     "data": {
      "text/html": [
       "<div>\n",
       "<style scoped>\n",
       "    .dataframe tbody tr th:only-of-type {\n",
       "        vertical-align: middle;\n",
       "    }\n",
       "\n",
       "    .dataframe tbody tr th {\n",
       "        vertical-align: top;\n",
       "    }\n",
       "\n",
       "    .dataframe thead th {\n",
       "        text-align: right;\n",
       "    }\n",
       "</style>\n",
       "<table border=\"1\" class=\"dataframe\">\n",
       "  <thead>\n",
       "    <tr style=\"text-align: right;\">\n",
       "      <th></th>\n",
       "      <th>stemmed_word</th>\n",
       "      <th>normalized_word</th>\n",
       "    </tr>\n",
       "    <tr>\n",
       "      <th>word</th>\n",
       "      <th></th>\n",
       "      <th></th>\n",
       "    </tr>\n",
       "  </thead>\n",
       "  <tbody>\n",
       "    <tr>\n",
       "      <th>этот</th>\n",
       "      <td>этот</td>\n",
       "      <td>этот</td>\n",
       "    </tr>\n",
       "    <tr>\n",
       "      <th>коктейль</th>\n",
       "      <td>коктейл</td>\n",
       "      <td>коктейль</td>\n",
       "    </tr>\n",
       "    <tr>\n",
       "      <th>готовлю</th>\n",
       "      <td>готовл</td>\n",
       "      <td>готовить</td>\n",
       "    </tr>\n",
       "    <tr>\n",
       "      <th>из</th>\n",
       "      <td>из</td>\n",
       "      <td>из</td>\n",
       "    </tr>\n",
       "    <tr>\n",
       "      <th>замороженной</th>\n",
       "      <td>заморожен</td>\n",
       "      <td>заморозить</td>\n",
       "    </tr>\n",
       "    <tr>\n",
       "      <th>...</th>\n",
       "      <td>...</td>\n",
       "      <td>...</td>\n",
       "    </tr>\n",
       "    <tr>\n",
       "      <th>сказка</th>\n",
       "      <td>сказк</td>\n",
       "      <td>сказка</td>\n",
       "    </tr>\n",
       "    <tr>\n",
       "      <th>превращается</th>\n",
       "      <td>превраща</td>\n",
       "      <td>превращаться</td>\n",
       "    </tr>\n",
       "    <tr>\n",
       "      <th>в</th>\n",
       "      <td>в</td>\n",
       "      <td>в</td>\n",
       "    </tr>\n",
       "    <tr>\n",
       "      <th>настоящее</th>\n",
       "      <td>настоя</td>\n",
       "      <td>настоящий</td>\n",
       "    </tr>\n",
       "    <tr>\n",
       "      <th>чудо</th>\n",
       "      <td>чуд</td>\n",
       "      <td>чудо</td>\n",
       "    </tr>\n",
       "  </tbody>\n",
       "</table>\n",
       "<p>104493 rows × 2 columns</p>\n",
       "</div>"
      ],
      "text/plain": [
       "             stemmed_word normalized_word\n",
       "word                                     \n",
       "этот                 этот            этот\n",
       "коктейль          коктейл        коктейль\n",
       "готовлю            готовл        готовить\n",
       "из                     из              из\n",
       "замороженной    заморожен      заморозить\n",
       "...                   ...             ...\n",
       "сказка              сказк          сказка\n",
       "превращается     превраща    превращаться\n",
       "в                       в               в\n",
       "настоящее          настоя       настоящий\n",
       "чудо                  чуд            чудо\n",
       "\n",
       "[104493 rows x 2 columns]"
      ]
     },
     "execution_count": 285,
     "metadata": {},
     "output_type": "execute_result"
    }
   ],
   "source": [
    "df_word_stem_norm = pd.DataFrame(data = {'stemmed_word': stem_words, 'normalized_word': norm_words},\n",
    "            index = words)\n",
    "df_word_stem_norm.rename_axis('word')"
   ]
  },
  {
   "cell_type": "code",
   "execution_count": 296,
   "metadata": {},
   "outputs": [
    {
     "data": {
      "text/plain": [
       "['картофельн', 'картофельный']"
      ]
     },
     "execution_count": 296,
     "metadata": {},
     "output_type": "execute_result"
    }
   ],
   "source": [
    "df_word_stem_norm.iloc[45].tolist()"
   ]
  },
  {
   "cell_type": "code",
   "execution_count": null,
   "metadata": {},
   "outputs": [],
   "source": [
    "#понятно, что Стемминг - это нахождение основы слова, то есть без окончания\n",
    "#на самом деле забавно, что в возвратных глаголах есть СЯ - и это основа, однако мы ее не берем)\n",
    "#а вот Лемматизация - это когда мы приводим в \"нормальную\" форму, то есть для\n",
    "#существительных в Именительный падеж, для глаголов в инфинитив, прилагательные -\n",
    "# в Именительный падеж, мужской род и тд"
   ]
  },
  {
   "cell_type": "markdown",
   "metadata": {},
   "source": [
    "5\\. Добавьте в таблицу `recipes` столбец `description_no_stopwords`, в котором содержится текст описания рецепта после удаления из него стоп-слов. Посчитайте и выведите на экран долю стоп-слов среди общего количества слов. Сравните топ-10 самых часто употребляемых слов до и после удаления стоп-слов."
   ]
  },
  {
   "cell_type": "code",
   "execution_count": 298,
   "metadata": {},
   "outputs": [],
   "source": [
    "from nltk.corpus import stopwords\n",
    "stop_rus = stopwords.words('russian')"
   ]
  },
  {
   "cell_type": "code",
   "execution_count": 305,
   "metadata": {},
   "outputs": [],
   "source": [
    "def description_no_stopwords_in_recipes(text):\n",
    "    return ' '.join([word for word in word_tokenize(text) if not word in stop_rus])"
   ]
  },
  {
   "cell_type": "code",
   "execution_count": 310,
   "metadata": {},
   "outputs": [
    {
     "data": {
      "text/html": [
       "<div>\n",
       "<style scoped>\n",
       "    .dataframe tbody tr th:only-of-type {\n",
       "        vertical-align: middle;\n",
       "    }\n",
       "\n",
       "    .dataframe tbody tr th {\n",
       "        vertical-align: top;\n",
       "    }\n",
       "\n",
       "    .dataframe thead th {\n",
       "        text-align: right;\n",
       "    }\n",
       "</style>\n",
       "<table border=\"1\" class=\"dataframe\">\n",
       "  <thead>\n",
       "    <tr style=\"text-align: right;\">\n",
       "      <th></th>\n",
       "      <th>url</th>\n",
       "      <th>name</th>\n",
       "      <th>ingredients</th>\n",
       "      <th>description</th>\n",
       "      <th>description_no_stopwords</th>\n",
       "    </tr>\n",
       "  </thead>\n",
       "  <tbody>\n",
       "    <tr>\n",
       "      <th>0</th>\n",
       "      <td>https://www.povarenok.ru/recipes/show/164365/</td>\n",
       "      <td>Густой молочно-клубничный коктейль</td>\n",
       "      <td>{'Молоко': '250 мл', 'Клубника': '200 г', 'Сах...</td>\n",
       "      <td>этот коктейль готовлю из замороженной клубники...</td>\n",
       "      <td>коктейль готовлю замороженной клубники клубник...</td>\n",
       "    </tr>\n",
       "    <tr>\n",
       "      <th>1</th>\n",
       "      <td>https://www.povarenok.ru/recipes/show/1306/</td>\n",
       "      <td>Рулетики</td>\n",
       "      <td>{'Сыр твердый': None, 'Чеснок': None, 'Яйцо ку...</td>\n",
       "      <td>быстро и вкусно</td>\n",
       "      <td>быстро вкусно</td>\n",
       "    </tr>\n",
       "    <tr>\n",
       "      <th>2</th>\n",
       "      <td>https://www.povarenok.ru/recipes/show/10625/</td>\n",
       "      <td>Салат \"Баклажанчик\"</td>\n",
       "      <td>{'Баклажан': '3 шт', 'Лук репчатый': '2 шт', '...</td>\n",
       "      <td>сытный овощной салатик пальчики оближете</td>\n",
       "      <td>сытный овощной салатик пальчики оближете</td>\n",
       "    </tr>\n",
       "    <tr>\n",
       "      <th>3</th>\n",
       "      <td>https://www.povarenok.ru/recipes/show/167337/</td>\n",
       "      <td>Куриные котлеты с картофельным пюре в духовке</td>\n",
       "      <td>{'Фарш куриный': '800 г', 'Пюре картофельное':...</td>\n",
       "      <td>картофельное пюре и куриные котлеты вкусная кл...</td>\n",
       "      <td>картофельное пюре куриные котлеты вкусная клас...</td>\n",
       "    </tr>\n",
       "    <tr>\n",
       "      <th>4</th>\n",
       "      <td>https://www.povarenok.ru/recipes/show/91919/</td>\n",
       "      <td>Рецепт вишневой наливки</td>\n",
       "      <td>{'Вишня': '1 кг', 'Водка': '1 л', 'Сахар': '30...</td>\n",
       "      <td>вишневая наливка имеет яркий вишневый вкус кот...</td>\n",
       "      <td>вишневая наливка имеет яркий вишневый вкус кот...</td>\n",
       "    </tr>\n",
       "  </tbody>\n",
       "</table>\n",
       "</div>"
      ],
      "text/plain": [
       "                                             url  \\\n",
       "0  https://www.povarenok.ru/recipes/show/164365/   \n",
       "1    https://www.povarenok.ru/recipes/show/1306/   \n",
       "2   https://www.povarenok.ru/recipes/show/10625/   \n",
       "3  https://www.povarenok.ru/recipes/show/167337/   \n",
       "4   https://www.povarenok.ru/recipes/show/91919/   \n",
       "\n",
       "                                            name  \\\n",
       "0             Густой молочно-клубничный коктейль   \n",
       "1                                       Рулетики   \n",
       "2                            Салат \"Баклажанчик\"   \n",
       "3  Куриные котлеты с картофельным пюре в духовке   \n",
       "4                        Рецепт вишневой наливки   \n",
       "\n",
       "                                         ingredients  \\\n",
       "0  {'Молоко': '250 мл', 'Клубника': '200 г', 'Сах...   \n",
       "1  {'Сыр твердый': None, 'Чеснок': None, 'Яйцо ку...   \n",
       "2  {'Баклажан': '3 шт', 'Лук репчатый': '2 шт', '...   \n",
       "3  {'Фарш куриный': '800 г', 'Пюре картофельное':...   \n",
       "4  {'Вишня': '1 кг', 'Водка': '1 л', 'Сахар': '30...   \n",
       "\n",
       "                                         description  \\\n",
       "0  этот коктейль готовлю из замороженной клубники...   \n",
       "1                                    быстро и вкусно   \n",
       "2           сытный овощной салатик пальчики оближете   \n",
       "3  картофельное пюре и куриные котлеты вкусная кл...   \n",
       "4  вишневая наливка имеет яркий вишневый вкус кот...   \n",
       "\n",
       "                            description_no_stopwords  \n",
       "0  коктейль готовлю замороженной клубники клубник...  \n",
       "1                                      быстро вкусно  \n",
       "2           сытный овощной салатик пальчики оближете  \n",
       "3  картофельное пюре куриные котлеты вкусная клас...  \n",
       "4  вишневая наливка имеет яркий вишневый вкус кот...  "
      ]
     },
     "execution_count": 310,
     "metadata": {},
     "output_type": "execute_result"
    }
   ],
   "source": [
    "recipes['description_no_stopwords'] = recipes['description'].map(description_no_stopwords_in_recipes)\n",
    "recipes.head()"
   ]
  },
  {
   "cell_type": "code",
   "execution_count": 323,
   "metadata": {},
   "outputs": [
    {
     "data": {
      "text/plain": [
       "0.3247968763457839"
      ]
     },
     "execution_count": 323,
     "metadata": {},
     "output_type": "execute_result"
    }
   ],
   "source": [
    "1 - len(word_tokenize(' '.join(recipes['description_no_stopwords'])))/len(\n",
    "    word_tokenize(' '.join(recipes['description'])))"
   ]
  },
  {
   "cell_type": "code",
   "execution_count": 313,
   "metadata": {},
   "outputs": [],
   "source": [
    "from collections import Counter"
   ]
  },
  {
   "cell_type": "code",
   "execution_count": 324,
   "metadata": {},
   "outputs": [
    {
     "data": {
      "text/plain": [
       "[('и', 5062),\n",
       " ('в', 2592),\n",
       " ('с', 1947),\n",
       " ('на', 1658),\n",
       " ('очень', 1626),\n",
       " ('не', 1523),\n",
       " ('из', 1023),\n",
       " ('я', 982),\n",
       " ('а', 876),\n",
       " ('рецепт', 874)]"
      ]
     },
     "execution_count": 324,
     "metadata": {},
     "output_type": "execute_result"
    }
   ],
   "source": [
    "Counter(word_tokenize(' '.join(recipes['description']))).most_common(10)"
   ]
  },
  {
   "cell_type": "code",
   "execution_count": 325,
   "metadata": {},
   "outputs": [
    {
     "data": {
      "text/plain": [
       "[('очень', 1626),\n",
       " ('рецепт', 874),\n",
       " ('это', 743),\n",
       " ('блюдо', 527),\n",
       " ('вкусный', 461),\n",
       " ('просто', 439),\n",
       " ('вкусно', 380),\n",
       " ('приготовить', 344),\n",
       " ('вкус', 325),\n",
       " ('салат', 318)]"
      ]
     },
     "execution_count": 325,
     "metadata": {},
     "output_type": "execute_result"
    }
   ],
   "source": [
    "Counter(word_tokenize(' '.join(recipes['description_no_stopwords']))).most_common(10)"
   ]
  },
  {
   "cell_type": "markdown",
   "metadata": {},
   "source": [
    "### Векторное представление текста"
   ]
  },
  {
   "cell_type": "markdown",
   "metadata": {},
   "source": [
    "6\\. Выберите случайным образом 5 рецептов из набора данных, в названии которых есть слово \"оладьи\" (без учета регистра). Представьте описание каждого рецепта в виде числового вектора при помощи `TfidfVectorizer`. На основе полученных векторов создайте `pd.DataFrame`, в котором названия колонок соответствуют словам из словаря объекта-векторизатора. \n",
    "\n",
    "Примечание: обратите внимание на порядок слов при создании колонок."
   ]
  },
  {
   "cell_type": "code",
   "execution_count": 340,
   "metadata": {},
   "outputs": [],
   "source": [
    "def pancakes(text):\n",
    "    if 'оладьи' in text.lower():\n",
    "        return True\n",
    "    return False"
   ]
  },
  {
   "cell_type": "code",
   "execution_count": 351,
   "metadata": {},
   "outputs": [
    {
     "data": {
      "text/plain": [
       "[115, 135, 442, 464, 599]"
      ]
     },
     "execution_count": 351,
     "metadata": {},
     "output_type": "execute_result"
    }
   ],
   "source": [
    "index_pancakes = recipes[recipes['name'].map(pancakes)].index.tolist()\n",
    "index_pancakes[:5]"
   ]
  },
  {
   "cell_type": "code",
   "execution_count": 353,
   "metadata": {
    "scrolled": true
   },
   "outputs": [
    {
     "data": {
      "text/plain": [
       "array([3244,  599, 2518, 1139, 2830])"
      ]
     },
     "execution_count": 353,
     "metadata": {},
     "output_type": "execute_result"
    }
   ],
   "source": [
    "random_pancakes = np.random.choice(index_pancakes, size = 5, replace = False)\n",
    "random_pancakes"
   ]
  },
  {
   "cell_type": "code",
   "execution_count": 360,
   "metadata": {},
   "outputs": [],
   "source": [
    "from sklearn.feature_extraction.text import TfidfVectorizer"
   ]
  },
  {
   "cell_type": "code",
   "execution_count": 361,
   "metadata": {},
   "outputs": [
    {
     "data": {
      "text/plain": [
       "TfidfVectorizer()"
      ]
     },
     "execution_count": 361,
     "metadata": {},
     "output_type": "execute_result"
    }
   ],
   "source": [
    "cv = TfidfVectorizer()\n",
    "cv.fit(recipes[np.isin(recipes.index, random_pancakes)].description.tolist())"
   ]
  },
  {
   "cell_type": "code",
   "execution_count": 369,
   "metadata": {},
   "outputs": [
    {
     "data": {
      "text/html": [
       "<div>\n",
       "<style scoped>\n",
       "    .dataframe tbody tr th:only-of-type {\n",
       "        vertical-align: middle;\n",
       "    }\n",
       "\n",
       "    .dataframe tbody tr th {\n",
       "        vertical-align: top;\n",
       "    }\n",
       "\n",
       "    .dataframe thead th {\n",
       "        text-align: right;\n",
       "    }\n",
       "</style>\n",
       "<table border=\"1\" class=\"dataframe\">\n",
       "  <thead>\n",
       "    <tr style=\"text-align: right;\">\n",
       "      <th></th>\n",
       "      <th>оладьи</th>\n",
       "      <th>из</th>\n",
       "      <th>брокколи</th>\n",
       "      <th>сыра</th>\n",
       "      <th>сытно</th>\n",
       "      <th>как</th>\n",
       "      <th>вкусно</th>\n",
       "      <th>если</th>\n",
       "      <th>подать</th>\n",
       "      <th>со</th>\n",
       "      <th>...</th>\n",
       "      <th>его</th>\n",
       "      <th>несколькими</th>\n",
       "      <th>ингредиентами</th>\n",
       "      <th>именно</th>\n",
       "      <th>картофельно</th>\n",
       "      <th>творожные</th>\n",
       "      <th>получаются</th>\n",
       "      <th>нежными</th>\n",
       "      <th>необычными</th>\n",
       "      <th>очень</th>\n",
       "    </tr>\n",
       "  </thead>\n",
       "  <tbody>\n",
       "    <tr>\n",
       "      <th>Оладьи из брокколи с сыром</th>\n",
       "      <td>0.000000</td>\n",
       "      <td>0.000000</td>\n",
       "      <td>0.000000</td>\n",
       "      <td>0.000000</td>\n",
       "      <td>0.000000</td>\n",
       "      <td>0.000000</td>\n",
       "      <td>0.257378</td>\n",
       "      <td>0.000000</td>\n",
       "      <td>0.000000</td>\n",
       "      <td>0.257378</td>\n",
       "      <td>...</td>\n",
       "      <td>0.000000</td>\n",
       "      <td>0.000000</td>\n",
       "      <td>0.000000</td>\n",
       "      <td>0.000000</td>\n",
       "      <td>0.000000</td>\n",
       "      <td>0.000000</td>\n",
       "      <td>0.000000</td>\n",
       "      <td>0.000000</td>\n",
       "      <td>0.000000</td>\n",
       "      <td>0.000000</td>\n",
       "    </tr>\n",
       "    <tr>\n",
       "      <th>Куриные оладьи</th>\n",
       "      <td>0.000000</td>\n",
       "      <td>0.000000</td>\n",
       "      <td>0.000000</td>\n",
       "      <td>0.000000</td>\n",
       "      <td>0.000000</td>\n",
       "      <td>0.000000</td>\n",
       "      <td>0.000000</td>\n",
       "      <td>0.000000</td>\n",
       "      <td>0.000000</td>\n",
       "      <td>0.000000</td>\n",
       "      <td>...</td>\n",
       "      <td>0.000000</td>\n",
       "      <td>0.000000</td>\n",
       "      <td>0.000000</td>\n",
       "      <td>0.000000</td>\n",
       "      <td>0.000000</td>\n",
       "      <td>0.344041</td>\n",
       "      <td>0.000000</td>\n",
       "      <td>0.000000</td>\n",
       "      <td>0.000000</td>\n",
       "      <td>0.000000</td>\n",
       "    </tr>\n",
       "    <tr>\n",
       "      <th>Оладьи \"Лето\"</th>\n",
       "      <td>0.000000</td>\n",
       "      <td>0.139885</td>\n",
       "      <td>0.000000</td>\n",
       "      <td>0.139885</td>\n",
       "      <td>0.112858</td>\n",
       "      <td>0.139885</td>\n",
       "      <td>0.000000</td>\n",
       "      <td>0.139885</td>\n",
       "      <td>0.000000</td>\n",
       "      <td>0.000000</td>\n",
       "      <td>...</td>\n",
       "      <td>0.000000</td>\n",
       "      <td>0.000000</td>\n",
       "      <td>0.139885</td>\n",
       "      <td>0.000000</td>\n",
       "      <td>0.139885</td>\n",
       "      <td>0.000000</td>\n",
       "      <td>0.000000</td>\n",
       "      <td>0.139885</td>\n",
       "      <td>0.139885</td>\n",
       "      <td>0.139885</td>\n",
       "    </tr>\n",
       "    <tr>\n",
       "      <th>Оладьи из печени</th>\n",
       "      <td>0.130927</td>\n",
       "      <td>0.000000</td>\n",
       "      <td>0.130927</td>\n",
       "      <td>0.000000</td>\n",
       "      <td>0.105631</td>\n",
       "      <td>0.000000</td>\n",
       "      <td>0.000000</td>\n",
       "      <td>0.000000</td>\n",
       "      <td>0.130927</td>\n",
       "      <td>0.000000</td>\n",
       "      <td>...</td>\n",
       "      <td>0.000000</td>\n",
       "      <td>0.130927</td>\n",
       "      <td>0.000000</td>\n",
       "      <td>0.000000</td>\n",
       "      <td>0.000000</td>\n",
       "      <td>0.000000</td>\n",
       "      <td>0.130927</td>\n",
       "      <td>0.000000</td>\n",
       "      <td>0.000000</td>\n",
       "      <td>0.000000</td>\n",
       "    </tr>\n",
       "    <tr>\n",
       "      <th>Картофельно-творожные оладьи</th>\n",
       "      <td>0.000000</td>\n",
       "      <td>0.000000</td>\n",
       "      <td>0.000000</td>\n",
       "      <td>0.000000</td>\n",
       "      <td>0.000000</td>\n",
       "      <td>0.000000</td>\n",
       "      <td>0.000000</td>\n",
       "      <td>0.000000</td>\n",
       "      <td>0.000000</td>\n",
       "      <td>0.000000</td>\n",
       "      <td>...</td>\n",
       "      <td>0.208278</td>\n",
       "      <td>0.000000</td>\n",
       "      <td>0.000000</td>\n",
       "      <td>0.208278</td>\n",
       "      <td>0.000000</td>\n",
       "      <td>0.000000</td>\n",
       "      <td>0.000000</td>\n",
       "      <td>0.000000</td>\n",
       "      <td>0.000000</td>\n",
       "      <td>0.000000</td>\n",
       "    </tr>\n",
       "  </tbody>\n",
       "</table>\n",
       "<p>5 rows × 142 columns</p>\n",
       "</div>"
      ],
      "text/plain": [
       "                                оладьи        из  брокколи      сыра  \\\n",
       "Оладьи из брокколи с сыром    0.000000  0.000000  0.000000  0.000000   \n",
       "Куриные оладьи                0.000000  0.000000  0.000000  0.000000   \n",
       "Оладьи \"Лето\"                 0.000000  0.139885  0.000000  0.139885   \n",
       "Оладьи из печени              0.130927  0.000000  0.130927  0.000000   \n",
       "Картофельно-творожные оладьи  0.000000  0.000000  0.000000  0.000000   \n",
       "\n",
       "                                 сытно       как    вкусно      если  \\\n",
       "Оладьи из брокколи с сыром    0.000000  0.000000  0.257378  0.000000   \n",
       "Куриные оладьи                0.000000  0.000000  0.000000  0.000000   \n",
       "Оладьи \"Лето\"                 0.112858  0.139885  0.000000  0.139885   \n",
       "Оладьи из печени              0.105631  0.000000  0.000000  0.000000   \n",
       "Картофельно-творожные оладьи  0.000000  0.000000  0.000000  0.000000   \n",
       "\n",
       "                                подать        со  ...       его  несколькими  \\\n",
       "Оладьи из брокколи с сыром    0.000000  0.257378  ...  0.000000     0.000000   \n",
       "Куриные оладьи                0.000000  0.000000  ...  0.000000     0.000000   \n",
       "Оладьи \"Лето\"                 0.000000  0.000000  ...  0.000000     0.000000   \n",
       "Оладьи из печени              0.130927  0.000000  ...  0.000000     0.130927   \n",
       "Картофельно-творожные оладьи  0.000000  0.000000  ...  0.208278     0.000000   \n",
       "\n",
       "                              ингредиентами    именно  картофельно  творожные  \\\n",
       "Оладьи из брокколи с сыром         0.000000  0.000000     0.000000   0.000000   \n",
       "Куриные оладьи                     0.000000  0.000000     0.000000   0.344041   \n",
       "Оладьи \"Лето\"                      0.139885  0.000000     0.139885   0.000000   \n",
       "Оладьи из печени                   0.000000  0.000000     0.000000   0.000000   \n",
       "Картофельно-творожные оладьи       0.000000  0.208278     0.000000   0.000000   \n",
       "\n",
       "                              получаются   нежными  необычными     очень  \n",
       "Оладьи из брокколи с сыром      0.000000  0.000000    0.000000  0.000000  \n",
       "Куриные оладьи                  0.000000  0.000000    0.000000  0.000000  \n",
       "Оладьи \"Лето\"                   0.000000  0.139885    0.139885  0.139885  \n",
       "Оладьи из печени                0.130927  0.000000    0.000000  0.000000  \n",
       "Картофельно-творожные оладьи    0.000000  0.000000    0.000000  0.000000  \n",
       "\n",
       "[5 rows x 142 columns]"
      ]
     },
     "execution_count": 369,
     "metadata": {},
     "output_type": "execute_result"
    }
   ],
   "source": [
    "cv_df = pd.DataFrame(cv.transform(recipes[np.isin(recipes.index, random_pancakes)].description.tolist()).toarray(),\n",
    "                    columns = cv.vocabulary_,\n",
    "                    index = recipes[np.isin(recipes.index, random_pancakes)].name.tolist())\n",
    "cv_df"
   ]
  },
  {
   "cell_type": "markdown",
   "metadata": {},
   "source": [
    "7\\. Вычислите близость между каждой парой рецептов, выбранных в задании 6, используя косинусное расстояние (можно воспользоваться функциями из любого пакета: `scipy`, `scikit-learn` или реализовать функцию самому). Результаты оформите в виде таблицы `pd.DataFrame`. В качестве названий строк и столбцов используйте названия рецептов.\n",
    "\n",
    "Примечание: обратите внимание, что $d_{cosine}(x, x) = 0$"
   ]
  },
  {
   "cell_type": "code",
   "execution_count": 366,
   "metadata": {},
   "outputs": [],
   "source": [
    "from scipy.spatial.distance import cosine"
   ]
  },
  {
   "cell_type": "code",
   "execution_count": 368,
   "metadata": {},
   "outputs": [
    {
     "data": {
      "text/html": [
       "<div>\n",
       "<style scoped>\n",
       "    .dataframe tbody tr th:only-of-type {\n",
       "        vertical-align: middle;\n",
       "    }\n",
       "\n",
       "    .dataframe tbody tr th {\n",
       "        vertical-align: top;\n",
       "    }\n",
       "\n",
       "    .dataframe thead th {\n",
       "        text-align: right;\n",
       "    }\n",
       "</style>\n",
       "<table border=\"1\" class=\"dataframe\">\n",
       "  <thead>\n",
       "    <tr style=\"text-align: right;\">\n",
       "      <th></th>\n",
       "      <th>Оладьи из брокколи с сыром</th>\n",
       "      <th>Куриные оладьи</th>\n",
       "      <th>Оладьи \"Лето\"</th>\n",
       "      <th>Оладьи из печени</th>\n",
       "      <th>Картофельно-творожные оладьи</th>\n",
       "    </tr>\n",
       "  </thead>\n",
       "  <tbody>\n",
       "    <tr>\n",
       "      <th>Оладьи из брокколи с сыром</th>\n",
       "      <td>NaN</td>\n",
       "      <td>NaN</td>\n",
       "      <td>NaN</td>\n",
       "      <td>NaN</td>\n",
       "      <td>NaN</td>\n",
       "    </tr>\n",
       "    <tr>\n",
       "      <th>Куриные оладьи</th>\n",
       "      <td>NaN</td>\n",
       "      <td>NaN</td>\n",
       "      <td>NaN</td>\n",
       "      <td>NaN</td>\n",
       "      <td>NaN</td>\n",
       "    </tr>\n",
       "    <tr>\n",
       "      <th>Оладьи \"Лето\"</th>\n",
       "      <td>NaN</td>\n",
       "      <td>NaN</td>\n",
       "      <td>NaN</td>\n",
       "      <td>NaN</td>\n",
       "      <td>NaN</td>\n",
       "    </tr>\n",
       "    <tr>\n",
       "      <th>Оладьи из печени</th>\n",
       "      <td>NaN</td>\n",
       "      <td>NaN</td>\n",
       "      <td>NaN</td>\n",
       "      <td>NaN</td>\n",
       "      <td>NaN</td>\n",
       "    </tr>\n",
       "    <tr>\n",
       "      <th>Картофельно-творожные оладьи</th>\n",
       "      <td>NaN</td>\n",
       "      <td>NaN</td>\n",
       "      <td>NaN</td>\n",
       "      <td>NaN</td>\n",
       "      <td>NaN</td>\n",
       "    </tr>\n",
       "  </tbody>\n",
       "</table>\n",
       "</div>"
      ],
      "text/plain": [
       "                             Оладьи из брокколи с сыром Куриные оладьи  \\\n",
       "Оладьи из брокколи с сыром                          NaN            NaN   \n",
       "Куриные оладьи                                      NaN            NaN   \n",
       "Оладьи \"Лето\"                                       NaN            NaN   \n",
       "Оладьи из печени                                    NaN            NaN   \n",
       "Картофельно-творожные оладьи                        NaN            NaN   \n",
       "\n",
       "                             Оладьи \"Лето\" Оладьи из печени  \\\n",
       "Оладьи из брокколи с сыром             NaN              NaN   \n",
       "Куриные оладьи                         NaN              NaN   \n",
       "Оладьи \"Лето\"                          NaN              NaN   \n",
       "Оладьи из печени                       NaN              NaN   \n",
       "Картофельно-творожные оладьи           NaN              NaN   \n",
       "\n",
       "                             Картофельно-творожные оладьи  \n",
       "Оладьи из брокколи с сыром                            NaN  \n",
       "Куриные оладьи                                        NaN  \n",
       "Оладьи \"Лето\"                                         NaN  \n",
       "Оладьи из печени                                      NaN  \n",
       "Картофельно-творожные оладьи                          NaN  "
      ]
     },
     "execution_count": 368,
     "metadata": {},
     "output_type": "execute_result"
    }
   ],
   "source": [
    "iamtired_df = pd.DataFrame(\n",
    "    columns = recipes[np.isin(recipes.index, random_pancakes)].name.tolist(), \n",
    "    index = recipes[np.isin(recipes.index, random_pancakes)].name.tolist())\n",
    "iamtired_df"
   ]
  },
  {
   "cell_type": "code",
   "execution_count": 376,
   "metadata": {
    "scrolled": true
   },
   "outputs": [],
   "source": [
    "for i in cv_df.index.tolist():\n",
    "    for j in cv_df.index.tolist():\n",
    "        \n",
    "        iamtired_df.loc[i, j] = cosine(cv_df.loc[j].tolist(), cv_df.loc[i].tolist())"
   ]
  },
  {
   "cell_type": "code",
   "execution_count": 377,
   "metadata": {},
   "outputs": [
    {
     "data": {
      "text/html": [
       "<div>\n",
       "<style scoped>\n",
       "    .dataframe tbody tr th:only-of-type {\n",
       "        vertical-align: middle;\n",
       "    }\n",
       "\n",
       "    .dataframe tbody tr th {\n",
       "        vertical-align: top;\n",
       "    }\n",
       "\n",
       "    .dataframe thead th {\n",
       "        text-align: right;\n",
       "    }\n",
       "</style>\n",
       "<table border=\"1\" class=\"dataframe\">\n",
       "  <thead>\n",
       "    <tr style=\"text-align: right;\">\n",
       "      <th></th>\n",
       "      <th>Оладьи из брокколи с сыром</th>\n",
       "      <th>Куриные оладьи</th>\n",
       "      <th>Оладьи \"Лето\"</th>\n",
       "      <th>Оладьи из печени</th>\n",
       "      <th>Картофельно-творожные оладьи</th>\n",
       "    </tr>\n",
       "  </thead>\n",
       "  <tbody>\n",
       "    <tr>\n",
       "      <th>Оладьи из брокколи с сыром</th>\n",
       "      <td>0</td>\n",
       "      <td>1.0</td>\n",
       "      <td>0.944269</td>\n",
       "      <td>0.978066</td>\n",
       "      <td>0.951914</td>\n",
       "    </tr>\n",
       "    <tr>\n",
       "      <th>Куриные оладьи</th>\n",
       "      <td>1.0</td>\n",
       "      <td>0</td>\n",
       "      <td>0.978415</td>\n",
       "      <td>0.919188</td>\n",
       "      <td>1.0</td>\n",
       "    </tr>\n",
       "    <tr>\n",
       "      <th>Оладьи \"Лето\"</th>\n",
       "      <td>0.944269</td>\n",
       "      <td>0.978415</td>\n",
       "      <td>0</td>\n",
       "      <td>0.907535</td>\n",
       "      <td>0.949004</td>\n",
       "    </tr>\n",
       "    <tr>\n",
       "      <th>Оладьи из печени</th>\n",
       "      <td>0.978066</td>\n",
       "      <td>0.919188</td>\n",
       "      <td>0.907535</td>\n",
       "      <td>0</td>\n",
       "      <td>0.94675</td>\n",
       "    </tr>\n",
       "    <tr>\n",
       "      <th>Картофельно-творожные оладьи</th>\n",
       "      <td>0.951914</td>\n",
       "      <td>1.0</td>\n",
       "      <td>0.949004</td>\n",
       "      <td>0.94675</td>\n",
       "      <td>0</td>\n",
       "    </tr>\n",
       "  </tbody>\n",
       "</table>\n",
       "</div>"
      ],
      "text/plain": [
       "                             Оладьи из брокколи с сыром Куриные оладьи  \\\n",
       "Оладьи из брокколи с сыром                            0            1.0   \n",
       "Куриные оладьи                                      1.0              0   \n",
       "Оладьи \"Лето\"                                  0.944269       0.978415   \n",
       "Оладьи из печени                               0.978066       0.919188   \n",
       "Картофельно-творожные оладьи                   0.951914            1.0   \n",
       "\n",
       "                             Оладьи \"Лето\" Оладьи из печени  \\\n",
       "Оладьи из брокколи с сыром        0.944269         0.978066   \n",
       "Куриные оладьи                    0.978415         0.919188   \n",
       "Оладьи \"Лето\"                            0         0.907535   \n",
       "Оладьи из печени                  0.907535                0   \n",
       "Картофельно-творожные оладьи      0.949004          0.94675   \n",
       "\n",
       "                             Картофельно-творожные оладьи  \n",
       "Оладьи из брокколи с сыром                       0.951914  \n",
       "Куриные оладьи                                        1.0  \n",
       "Оладьи \"Лето\"                                    0.949004  \n",
       "Оладьи из печени                                  0.94675  \n",
       "Картофельно-творожные оладьи                            0  "
      ]
     },
     "execution_count": 377,
     "metadata": {},
     "output_type": "execute_result"
    }
   ],
   "source": [
    "iamtired_df"
   ]
  },
  {
   "cell_type": "markdown",
   "metadata": {},
   "source": [
    "8\\. Напишите функцию, которая принимает на вход `pd.DataFrame`, полученный в задании 7, и возвращает в виде кортежа названия двух различных рецептов, которые являются наиболее похожими. Прокомментируйте результат (в виде текстового комментария). Для объяснения результата сравните слова в описаниях двух этих отзывов."
   ]
  },
  {
   "cell_type": "code",
   "execution_count": 453,
   "metadata": {},
   "outputs": [],
   "source": [
    "def find_closest(sim_df: pd.DataFrame) -> tuple:\n",
    "    np.fill_diagonal(sim_df.values, 2022)\n",
    "    min_pancake = sim_df.values.argmin()\n",
    "\n",
    "    col = sim_df.columns[min_pancake // sim_df.shape[0]]\n",
    "    ind = sim_df.index[min_pancake % sim_df.shape[1]]\n",
    "    \n",
    "    return col, ind"
   ]
  },
  {
   "cell_type": "code",
   "execution_count": 454,
   "metadata": {},
   "outputs": [
    {
     "data": {
      "text/plain": [
       "('Оладьи \"Лето\"', 'Оладьи из печени')"
      ]
     },
     "execution_count": 454,
     "metadata": {},
     "output_type": "execute_result"
    }
   ],
   "source": [
    "find_closest(iamtired_df)"
   ]
  },
  {
   "cell_type": "code",
   "execution_count": 456,
   "metadata": {},
   "outputs": [
    {
     "data": {
      "text/plain": [
       "2518    драники или деруны уже давно стали интернацион...\n",
       "2830    31 декабря рабочий день времени на подготовку ...\n",
       "Name: description, dtype: object"
      ]
     },
     "execution_count": 456,
     "metadata": {},
     "output_type": "execute_result"
    }
   ],
   "source": [
    "recipes[np.isin(recipes.name, find_closest(iamtired_df))].description"
   ]
  },
  {
   "cell_type": "code",
   "execution_count": 459,
   "metadata": {},
   "outputs": [
    {
     "data": {
      "text/plain": [
       "'драники или деруны уже давно стали интернациональным блюдом уходя корнями в белорусскую кухню они широко распространились по всей планете и каждый внес в рецепт свои изменения но основа остается неизменной картофель натертый на терке вот и я не упустила шанс сделать оладьи из картофеля более интересными и вкусными использовали дополнительный ингредиент свежую зелень что придало драникам оладушкам еще больше нежности и вкуса'"
      ]
     },
     "execution_count": 459,
     "metadata": {},
     "output_type": "execute_result"
    }
   ],
   "source": [
    "recipes.loc[2518].description"
   ]
  },
  {
   "cell_type": "code",
   "execution_count": 460,
   "metadata": {},
   "outputs": [
    {
     "data": {
      "text/plain": [
       "'31 декабря рабочий день времени на подготовку праздничного стола ооочень мало на помощь приходят рецепты которые можно приготовить заранее рецепт оладушек простой но их не стыдно подать на праздничный стол тем более несложный процесс приготовления упростился окончательно сейчас на смену мясорубке пришел блендер или кухонный комбайн в чашу которого можно сложить все ингредиенты одновременно вуаля и вкусная закуска готова'"
      ]
     },
     "execution_count": 460,
     "metadata": {},
     "output_type": "execute_result"
    }
   ],
   "source": [
    "recipes.loc[2830].description"
   ]
  },
  {
   "cell_type": "code",
   "execution_count": null,
   "metadata": {},
   "outputs": [],
   "source": [
    "#ну что ж, на самом деле я бы не сказала что они супер похожи друг на друга НО\n",
    "#здесь есть упоминание что блюдо вкусное, слово \"ингридиенты\""
   ]
  }
 ],
 "metadata": {
  "kernelspec": {
   "display_name": "Python 3 (ipykernel)",
   "language": "python",
   "name": "python3"
  },
  "language_info": {
   "codemirror_mode": {
    "name": "ipython",
    "version": 3
   },
   "file_extension": ".py",
   "mimetype": "text/x-python",
   "name": "python",
   "nbconvert_exporter": "python",
   "pygments_lexer": "ipython3",
   "version": "3.9.12"
  }
 },
 "nbformat": 4,
 "nbformat_minor": 4
}
