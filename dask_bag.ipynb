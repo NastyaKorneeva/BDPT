{
 "cells": [
  {
   "cell_type": "markdown",
   "metadata": {},
   "source": [
    "# Dask Bag"
   ]
  },
  {
   "cell_type": "markdown",
   "metadata": {},
   "source": [
    "__Автор задач: Блохин Н.В. (NVBlokhin@fa.ru)__ "
   ]
  },
  {
   "cell_type": "code",
   "execution_count": 2,
   "metadata": {},
   "outputs": [],
   "source": [
    "import dask.bag as db\n",
    "import json"
   ]
  },
  {
   "cell_type": "markdown",
   "metadata": {},
   "source": [
    "## Лабораторная работа 12"
   ]
  },
  {
   "cell_type": "markdown",
   "metadata": {},
   "source": [
    "__При решении данных задач не подразумевается использования циклов или генераторов Python в ходе работы с пакетами `numpy`, `pandas` и `dask`, если в задании не сказано обратного. Решения задач, в которых для обработки массивов `numpy`, структур `pandas` или структур `dask` используются явные циклы (без согласования с преподавателем), могут быть признаны некорректными и не засчитаны.__"
   ]
  },
  {
   "cell_type": "markdown",
   "metadata": {},
   "source": [
    "В ходе выполнения все операции вычислений проводятся над `dask.bag` и средствами пакета `dask`, если в задании не сказано обратного. Переход от `dask.bag` к `pd.DataFrame` возможен исключительно для демонстрации результата в конце решения задачи. Если в задаче используются результаты выполнения предыдущих задач, то подразумевается, что вы используете результаты в виде `dask.bag` (то есть то, что было получено до вызова `compute`, а не после)."
   ]
  },
  {
   "cell_type": "markdown",
   "metadata": {},
   "source": [
    "1\\. В файлах архива `reviews_full.zip` находятся файлы, содержащие информацию об отзывах к рецептам в формате JSON Lines. Отзывы разделены на файлы в зависимости от оценки (например, в файле `reviews_1.json` находятся отзывы с оценкой 1). Считайте файлы из этого архива (предварительно разархивировав) в виде `dask.bag`. Преобразуйте текстовое содержимое файлов с помощью модуля `json`. Выведите на экран первые 5 элементов полученного `bag`."
   ]
  },
  {
   "cell_type": "code",
   "execution_count": 3,
   "metadata": {},
   "outputs": [],
   "source": [
    "reviews = db.read_text(\n",
    "    '/Users/nastya/Desktop/Университет/Tobd/12_das_bag/reviews_full/reviews_*.json'\n",
    ").map(json.loads)"
   ]
  },
  {
   "cell_type": "code",
   "execution_count": 5,
   "metadata": {},
   "outputs": [
    {
     "data": {
      "text/plain": [
       "dask.bag.core.Bag"
      ]
     },
     "execution_count": 5,
     "metadata": {},
     "output_type": "execute_result"
    }
   ],
   "source": [
    "type(reviews)"
   ]
  },
  {
   "cell_type": "code",
   "execution_count": 4,
   "metadata": {},
   "outputs": [
    {
     "data": {
      "text/plain": [
       "({'user_id': 452355,\n",
       "  'recipe_id': 292657,\n",
       "  'date': '2016-05-08',\n",
       "  'review': 'WOW!!! This is the best. I have never been able to make homemade enchiladas that taste like the Mexican restaurants. I made this last night for my family and they said they will never have enchiladas at the Mexican Restaurants again. Thanks for sharing.'},\n",
       " {'user_id': 329304,\n",
       "  'recipe_id': 433404,\n",
       "  'date': '2006-06-14',\n",
       "  'review': 'This was good but the dressing needed something and I found it to be a little too sweet, next time I will experiment with some garlic and herbs and reduce the sugar slightly, thanks for sharing kcdlong!...Kitten'},\n",
       " {'user_id': 227932,\n",
       "  'recipe_id': 2008187,\n",
       "  'date': '1985-11-19',\n",
       "  'review': 'Very good,it was a hit for my family. I used 6 cloves of garlic and had 1 lb beef and  Johnsonville sausage,1/2 lb hot and  1/2 lb honey garlic( which I wanted to use). That was a perfect combo for us. The sausage gave it nice flavor No guestion , I will be making this often.'},\n",
       " {'user_id': 171468,\n",
       "  'recipe_id': 270716,\n",
       "  'date': '2019-05-21',\n",
       "  'review': 'Made for ZWT-8 Family Picks after I saw these mentioned in the Family Picks thread. So I got up this morning, made my morning coffee while the oven was heating & then made these quick-fix sweet treats B4 I was ready for my 2nd cup of coffee. I used 8\" tortillas (all I had on-hand) & cut them into 8 wedges. Then I used 2 of my Pamperd Chef gadgets .. my sml basting brush to spread the honey on the warm tortillas & my flour/sugar shaker to sprinkle the powd sugar/cinnamon mixture atop the honeyed tortillas. It might have taken a total of 2 min from oven to tasting! Yum! Using the same \"sweet mix\" these would also be good w/butter, cream cheese or even lime juice. Can\\'t wait to try them w/lime juice! Thx for sharing this tasty little treat w/us.'},\n",
       " {'user_id': 91392,\n",
       "  'recipe_id': 1159916,\n",
       "  'date': '1972-09-18',\n",
       "  'review': \"Very nice slaw. I especially like that it doesn't have the mayo dressing. I used a prepackaged Cole slaw mix, so i didn't include the carrots nor the nuts. I also doubled the sauce. :)\"})"
      ]
     },
     "execution_count": 4,
     "metadata": {},
     "output_type": "execute_result"
    }
   ],
   "source": [
    "reviews.take(5)"
   ]
  },
  {
   "cell_type": "markdown",
   "metadata": {},
   "source": [
    "2\\. Модифицируйте функцию разбора JSON таким образом, чтобы в каждый словарь c информацией об отзыве добавить ключ `rating`. Значение получите на основе названия файла (см. аргумент `include_path` функции `read_text`), использовав для этого регулярное выражение. При создании `bag` разбейте набор данных на сегменты размером 128 Мб (см. аргумент `blocksize`).  Выведите на экран первые 5 элементов полученного `bag`."
   ]
  },
  {
   "cell_type": "code",
   "execution_count": 10,
   "metadata": {},
   "outputs": [],
   "source": [
    "import re"
   ]
  },
  {
   "cell_type": "code",
   "execution_count": 70,
   "metadata": {},
   "outputs": [],
   "source": [
    "def s(review):\n",
    "    pattern = r'reviews_\\d'\n",
    "    search_pattern = re.findall(pattern, review[1])[0][-1]\n",
    "    str_for_json = f'{review[0][:-2]}, \"rating\": {search_pattern}' + '}'\n",
    "    return json.loads(str_for_json)"
   ]
  },
  {
   "cell_type": "code",
   "execution_count": 71,
   "metadata": {},
   "outputs": [],
   "source": [
    "review_with_rating = db.read_text(\n",
    "    '/Users/nastya/Desktop/Университет/Tobd/12_das_bag/reviews_full/reviews_*.json',\n",
    "    include_path = True,\n",
    "    blocksize = '128MB'\n",
    ").map(s)"
   ]
  },
  {
   "cell_type": "code",
   "execution_count": 154,
   "metadata": {},
   "outputs": [
    {
     "data": {
      "text/plain": [
       "({'user_id': 452355,\n",
       "  'recipe_id': 292657,\n",
       "  'date': '2016-05-08',\n",
       "  'review': 'WOW!!! This is the best. I have never been able to make homemade enchiladas that taste like the Mexican restaurants. I made this last night for my family and they said they will never have enchiladas at the Mexican Restaurants again. Thanks for sharing.',\n",
       "  'rating': 0},\n",
       " {'user_id': 329304,\n",
       "  'recipe_id': 433404,\n",
       "  'date': '2006-06-14',\n",
       "  'review': 'This was good but the dressing needed something and I found it to be a little too sweet, next time I will experiment with some garlic and herbs and reduce the sugar slightly, thanks for sharing kcdlong!...Kitten',\n",
       "  'rating': 0},\n",
       " {'user_id': 227932,\n",
       "  'recipe_id': 2008187,\n",
       "  'date': '1985-11-19',\n",
       "  'review': 'Very good,it was a hit for my family. I used 6 cloves of garlic and had 1 lb beef and  Johnsonville sausage,1/2 lb hot and  1/2 lb honey garlic( which I wanted to use). That was a perfect combo for us. The sausage gave it nice flavor No guestion , I will be making this often.',\n",
       "  'rating': 0},\n",
       " {'user_id': 171468,\n",
       "  'recipe_id': 270716,\n",
       "  'date': '2019-05-21',\n",
       "  'review': 'Made for ZWT-8 Family Picks after I saw these mentioned in the Family Picks thread. So I got up this morning, made my morning coffee while the oven was heating & then made these quick-fix sweet treats B4 I was ready for my 2nd cup of coffee. I used 8\" tortillas (all I had on-hand) & cut them into 8 wedges. Then I used 2 of my Pamperd Chef gadgets .. my sml basting brush to spread the honey on the warm tortillas & my flour/sugar shaker to sprinkle the powd sugar/cinnamon mixture atop the honeyed tortillas. It might have taken a total of 2 min from oven to tasting! Yum! Using the same \"sweet mix\" these would also be good w/butter, cream cheese or even lime juice. Can\\'t wait to try them w/lime juice! Thx for sharing this tasty little treat w/us.',\n",
       "  'rating': 0},\n",
       " {'user_id': 91392,\n",
       "  'recipe_id': 1159916,\n",
       "  'date': '1972-09-18',\n",
       "  'review': \"Very nice slaw. I especially like that it doesn't have the mayo dressing. I used a prepackaged Cole slaw mix, so i didn't include the carrots nor the nuts. I also doubled the sauce. :)\",\n",
       "  'rating': 0})"
      ]
     },
     "execution_count": 154,
     "metadata": {},
     "output_type": "execute_result"
    }
   ],
   "source": [
    "review_with_rating.take(5)"
   ]
  },
  {
   "cell_type": "markdown",
   "metadata": {},
   "source": [
    "3\\. Посчитайте, сколько различных пользователей оставляли отзывы. Выведите это количество на экран."
   ]
  },
  {
   "cell_type": "code",
   "execution_count": 173,
   "metadata": {},
   "outputs": [],
   "source": [
    "distinct_review_with_rating = review_with_rating.distinct(key = 'user_id')"
   ]
  },
  {
   "cell_type": "code",
   "execution_count": 174,
   "metadata": {},
   "outputs": [
    {
     "data": {
      "text/plain": [
       "226570"
      ]
     },
     "execution_count": 174,
     "metadata": {},
     "output_type": "execute_result"
    }
   ],
   "source": [
    "len(distinct_review_with_rating.compute())"
   ]
  },
  {
   "cell_type": "markdown",
   "metadata": {},
   "source": [
    "4\\. Создайте версию `bag` из задания 2, в которой сохранены только отзывы, оставленные в 2014 и 2015 годах. Посчитайте и выведите на экран долю, которую составляют отзывы, оставленные в 2014 и 2015 году, среди всех отзывов."
   ]
  },
  {
   "cell_type": "code",
   "execution_count": 12,
   "metadata": {},
   "outputs": [],
   "source": [
    "from datetime import datetime"
   ]
  },
  {
   "cell_type": "code",
   "execution_count": 73,
   "metadata": {},
   "outputs": [],
   "source": [
    "review_with_rating_2014_2015 = review_with_rating.filter(\n",
    "                            lambda p: datetime.strptime(p['date'], '%Y-%m-%d').year in (2014, 2015)\n",
    ")"
   ]
  },
  {
   "cell_type": "code",
   "execution_count": 187,
   "metadata": {},
   "outputs": [
    {
     "data": {
      "text/plain": [
       "735274"
      ]
     },
     "execution_count": 187,
     "metadata": {},
     "output_type": "execute_result"
    }
   ],
   "source": [
    "review_with_rating_2014_2015.count().compute()"
   ]
  },
  {
   "cell_type": "code",
   "execution_count": 188,
   "metadata": {},
   "outputs": [
    {
     "data": {
      "text/plain": [
       "9057540"
      ]
     },
     "execution_count": 188,
     "metadata": {},
     "output_type": "execute_result"
    }
   ],
   "source": [
    "review_with_rating.count().compute()"
   ]
  },
  {
   "cell_type": "code",
   "execution_count": 189,
   "metadata": {},
   "outputs": [
    {
     "data": {
      "text/plain": [
       "0.08117811237929945"
      ]
     },
     "execution_count": 189,
     "metadata": {},
     "output_type": "execute_result"
    }
   ],
   "source": [
    "735274/9057540"
   ]
  },
  {
   "cell_type": "markdown",
   "metadata": {},
   "source": [
    "5\\. Для отзывов, оставленных в мае 2013 года, выполните предобработку: \n",
    "   * приведите строки к нижнему регистру;\n",
    "   * обрежьте пробельные символы в начале и конце строки;\n",
    "   * удалите все символы, кроме английских букв и пробелов.\n",
    "   \n",
    "Посчитайте и выведите на экран среднюю длину этих отзывов после предобработки. Если текстовое содержимое отзыва отсутствует, считайте, что длина отзыва равна нулю."
   ]
  },
  {
   "cell_type": "code",
   "execution_count": 74,
   "metadata": {},
   "outputs": [],
   "source": [
    "review_with_rating_may_2013 = review_with_rating.filter(\n",
    "    (lambda p: datetime.strptime(p['date'], '%Y-%m-%d').year == 2013) and \n",
    "    (lambda p: datetime.strptime(p['date'], '%Y-%m-%d').month == 5)\n",
    ")"
   ]
  },
  {
   "cell_type": "code",
   "execution_count": 160,
   "metadata": {},
   "outputs": [],
   "source": [
    "def processing(data):\n",
    "\n",
    "    data['review'] = re.sub(r'[^\\d a-zA-Z]+', ' ', str(data['review']))\n",
    "    data['review'] = re.sub(r' +', ' ', data['review'])\n",
    "    data['review'] = data['review'].strip()\n",
    "    data['review'] = data['review'].lower()\n",
    "    \n",
    "    return data"
   ]
  },
  {
   "cell_type": "code",
   "execution_count": 161,
   "metadata": {},
   "outputs": [
    {
     "data": {
      "text/plain": [
       "({'user_id': 452355,\n",
       "  'recipe_id': 292657,\n",
       "  'date': '2016-05-08',\n",
       "  'review': 'wow this is the best i have never been able to make homemade enchiladas that taste like the mexican restaurants i made this last night for my family and they said they will never have enchiladas at the mexican restaurants again thanks for sharing',\n",
       "  'rating': 0},)"
      ]
     },
     "execution_count": 161,
     "metadata": {},
     "output_type": "execute_result"
    }
   ],
   "source": [
    "pros_review_with_rating_may_2013 = review_with_rating_may_2013.map(processing)\n",
    "pros_review_with_rating_may_2013.take(1)"
   ]
  },
  {
   "cell_type": "code",
   "execution_count": 165,
   "metadata": {},
   "outputs": [],
   "source": [
    "import numpy as np"
   ]
  },
  {
   "cell_type": "code",
   "execution_count": 169,
   "metadata": {},
   "outputs": [
    {
     "name": "stdout",
     "output_type": "stream",
     "text": [
      "CPU times: user 6.79 s, sys: 7.12 s, total: 13.9 s\n",
      "Wall time: 3min 24s\n"
     ]
    }
   ],
   "source": [
    "%%time\n",
    "\n",
    "mean_pros = np.mean([len(p['review']) for p in pros_review_with_rating_may_2013])"
   ]
  },
  {
   "cell_type": "code",
   "execution_count": 170,
   "metadata": {},
   "outputs": [
    {
     "data": {
      "text/plain": [
       "268.5630280118798"
      ]
     },
     "execution_count": 170,
     "metadata": {},
     "output_type": "execute_result"
    }
   ],
   "source": [
    "mean_pros"
   ]
  },
  {
   "cell_type": "markdown",
   "metadata": {},
   "source": [
    "6\\. Посчитайте, как часто встречается та или иная оценка:\n",
    "\n",
    "   * в 2014 году;\n",
    "   * в 2015 году.\n",
    "\n",
    "Создайте `pd.DataFrame`, содержащий 2 столбца: `2014`, `2015` и 6 строк, имеющие индексы строк от 0 до 5. Дайте индексам строк имя `rating`. Выведите полученную таблицу на экран."
   ]
  },
  {
   "cell_type": "code",
   "execution_count": 174,
   "metadata": {},
   "outputs": [],
   "source": [
    "review_with_rating_2014 = review_with_rating.filter(\n",
    "    (lambda p: datetime.strptime(p['date'], '%Y-%m-%d').year == 2014)\n",
    ")"
   ]
  },
  {
   "cell_type": "code",
   "execution_count": 175,
   "metadata": {},
   "outputs": [],
   "source": [
    "review_with_rating_2015 = review_with_rating.filter(\n",
    "    (lambda p: datetime.strptime(p['date'], '%Y-%m-%d').year == 2015)\n",
    ")"
   ]
  },
  {
   "cell_type": "code",
   "execution_count": 177,
   "metadata": {},
   "outputs": [],
   "source": [
    "rating_2014 = review_with_rating_2014.pluck('rating').frequencies()"
   ]
  },
  {
   "cell_type": "code",
   "execution_count": 178,
   "metadata": {},
   "outputs": [],
   "source": [
    "rating_2015 = review_with_rating_2015.pluck('rating').frequencies()"
   ]
  },
  {
   "cell_type": "code",
   "execution_count": 180,
   "metadata": {},
   "outputs": [
    {
     "data": {
      "text/plain": [
       "[(0, 21136), (1, 4344), (2, 4507), (3, 12865), (4, 58433), (5, 258832)]"
      ]
     },
     "execution_count": 180,
     "metadata": {},
     "output_type": "execute_result"
    }
   ],
   "source": [
    "rating_2014.compute()"
   ]
  },
  {
   "cell_type": "code",
   "execution_count": 183,
   "metadata": {},
   "outputs": [
    {
     "name": "stdout",
     "output_type": "stream",
     "text": [
      "CPU times: user 60.4 ms, sys: 109 ms, total: 169 ms\n",
      "Wall time: 1min 51s\n"
     ]
    },
    {
     "data": {
      "text/plain": [
       "[(0, 21336), (1, 4902), (2, 4873), (3, 13667), (4, 60980), (5, 269399)]"
      ]
     },
     "execution_count": 183,
     "metadata": {},
     "output_type": "execute_result"
    }
   ],
   "source": [
    "%%time\n",
    "\n",
    "rating_2015.compute()"
   ]
  },
  {
   "cell_type": "code",
   "execution_count": 185,
   "metadata": {},
   "outputs": [],
   "source": [
    "import pandas as pd"
   ]
  },
  {
   "cell_type": "code",
   "execution_count": 214,
   "metadata": {
    "scrolled": true
   },
   "outputs": [],
   "source": [
    "df_rating_2014 = pd.DataFrame(rating_2014.compute())"
   ]
  },
  {
   "cell_type": "code",
   "execution_count": 215,
   "metadata": {},
   "outputs": [],
   "source": [
    "df_rating_2015 = pd.DataFrame(rating_2015.compute())"
   ]
  },
  {
   "cell_type": "code",
   "execution_count": 216,
   "metadata": {},
   "outputs": [],
   "source": [
    "df_rating_2014 = df_rating_2014.drop([0], axis = 1).rename({1: 2014}, axis = 1)"
   ]
  },
  {
   "cell_type": "code",
   "execution_count": 217,
   "metadata": {},
   "outputs": [],
   "source": [
    "df_rating_2015 = df_rating_2015.drop([0], axis = 1).rename({1: 2015}, axis = 1)"
   ]
  },
  {
   "cell_type": "code",
   "execution_count": 223,
   "metadata": {},
   "outputs": [],
   "source": [
    "df = pd.concat([df_rating_2014, df_rating_2015], axis=1)"
   ]
  },
  {
   "cell_type": "code",
   "execution_count": 230,
   "metadata": {},
   "outputs": [],
   "source": [
    "df = df.index.rename('rating', inplace = True)"
   ]
  },
  {
   "cell_type": "code",
   "execution_count": 232,
   "metadata": {},
   "outputs": [
    {
     "data": {
      "text/html": [
       "<div>\n",
       "<style scoped>\n",
       "    .dataframe tbody tr th:only-of-type {\n",
       "        vertical-align: middle;\n",
       "    }\n",
       "\n",
       "    .dataframe tbody tr th {\n",
       "        vertical-align: top;\n",
       "    }\n",
       "\n",
       "    .dataframe thead th {\n",
       "        text-align: right;\n",
       "    }\n",
       "</style>\n",
       "<table border=\"1\" class=\"dataframe\">\n",
       "  <thead>\n",
       "    <tr style=\"text-align: right;\">\n",
       "      <th></th>\n",
       "      <th>2014</th>\n",
       "      <th>2015</th>\n",
       "    </tr>\n",
       "    <tr>\n",
       "      <th>rating</th>\n",
       "      <th></th>\n",
       "      <th></th>\n",
       "    </tr>\n",
       "  </thead>\n",
       "  <tbody>\n",
       "    <tr>\n",
       "      <th>0</th>\n",
       "      <td>21136</td>\n",
       "      <td>21336</td>\n",
       "    </tr>\n",
       "    <tr>\n",
       "      <th>1</th>\n",
       "      <td>4344</td>\n",
       "      <td>4902</td>\n",
       "    </tr>\n",
       "    <tr>\n",
       "      <th>2</th>\n",
       "      <td>4507</td>\n",
       "      <td>4873</td>\n",
       "    </tr>\n",
       "    <tr>\n",
       "      <th>3</th>\n",
       "      <td>12865</td>\n",
       "      <td>13667</td>\n",
       "    </tr>\n",
       "    <tr>\n",
       "      <th>4</th>\n",
       "      <td>58433</td>\n",
       "      <td>60980</td>\n",
       "    </tr>\n",
       "    <tr>\n",
       "      <th>5</th>\n",
       "      <td>258832</td>\n",
       "      <td>269399</td>\n",
       "    </tr>\n",
       "  </tbody>\n",
       "</table>\n",
       "</div>"
      ],
      "text/plain": [
       "          2014    2015\n",
       "rating                \n",
       "0        21136   21336\n",
       "1         4344    4902\n",
       "2         4507    4873\n",
       "3        12865   13667\n",
       "4        58433   60980\n",
       "5       258832  269399"
      ]
     },
     "execution_count": 232,
     "metadata": {},
     "output_type": "execute_result"
    }
   ],
   "source": [
    "df"
   ]
  },
  {
   "cell_type": "markdown",
   "metadata": {},
   "source": [
    "7\\.  Перераспределите данные из исходного `bag` на $k, k=2, 16, 32, 64, 128$ частей. Для каждого разбиения измерьте время выполнения расчета среднего рейтинга. Визуализируйте зависимость времени выполнения функции от числа сегментов. Временем, затрачиваемым на вызов метода `repartition`, можно пренебречь. Для итерации по $k$ допускается использовать циклы."
   ]
  },
  {
   "cell_type": "code",
   "execution_count": 233,
   "metadata": {},
   "outputs": [],
   "source": [
    "review_with_rating_2_part = review_with_rating.repartition(2)\n",
    "review_with_rating_16_part = review_with_rating.repartition(16)\n",
    "review_with_rating_32_part = review_with_rating.repartition(32)\n",
    "review_with_rating_64_part = review_with_rating.repartition(64)\n",
    "review_with_rating_128_part = review_with_rating.repartition(128)"
   ]
  },
  {
   "cell_type": "code",
   "execution_count": 234,
   "metadata": {},
   "outputs": [
    {
     "name": "stdout",
     "output_type": "stream",
     "text": [
      "CPU times: user 2min 56s, sys: 9min 9s, total: 12min 6s\n",
      "Wall time: 39min 25s\n"
     ]
    },
    {
     "data": {
      "text/plain": [
       "4.410805803783367"
      ]
     },
     "execution_count": 234,
     "metadata": {},
     "output_type": "execute_result"
    }
   ],
   "source": [
    "%%time\n",
    "\n",
    "review_with_rating_2_part.pluck('rating').mean().compute()"
   ]
  },
  {
   "cell_type": "code",
   "execution_count": null,
   "metadata": {},
   "outputs": [],
   "source": [
    "%%time\n",
    "\n",
    "review_with_rating_16_part.pluck('rating').mean().compute()"
   ]
  },
  {
   "cell_type": "code",
   "execution_count": null,
   "metadata": {},
   "outputs": [],
   "source": [
    "%%time\n",
    "\n",
    "review_with_rating_32_part.pluck('rating').mean().compute()"
   ]
  },
  {
   "cell_type": "code",
   "execution_count": null,
   "metadata": {},
   "outputs": [],
   "source": [
    "%%time\n",
    "\n",
    "review_with_rating_64_part.pluck('rating').mean().compute()"
   ]
  },
  {
   "cell_type": "code",
   "execution_count": null,
   "metadata": {},
   "outputs": [],
   "source": [
    "%%time\n",
    "\n",
    "review_with_rating_128_part.pluck('rating').mean().compute()"
   ]
  },
  {
   "cell_type": "markdown",
   "metadata": {},
   "source": [
    "8\\. Будем считать, что сегмент _плохо перемешан_, если в нем _подряд_ идет 5 или более отзывов, оставленных в один и тот же год. Воспользовавшись методом `map_partitions`, посчитайте и выведите на экран, сколько сегментов оказались _плохо перемешанными_ в `bag` из задачи 2. Также выведите на экран общее количество сегментов в `bag`, для которого производились расчеты."
   ]
  },
  {
   "cell_type": "code",
   "execution_count": 244,
   "metadata": {},
   "outputs": [],
   "source": [
    "review_with_rating_date = review_with_rating.map(\n",
    "    lambda p: datetime.strptime(p['date'], '%Y-%m-%d').year\n",
    ")"
   ]
  },
  {
   "cell_type": "code",
   "execution_count": 259,
   "metadata": {},
   "outputs": [
    {
     "data": {
      "text/plain": [
       "0"
      ]
     },
     "execution_count": 259,
     "metadata": {},
     "output_type": "execute_result"
    }
   ],
   "source": [
    "lst = [2,4,3,4,7, 7, 7, 7, 6, 7, 7]\n",
    "bad_mix(lst)"
   ]
  },
  {
   "cell_type": "code",
   "execution_count": 261,
   "metadata": {},
   "outputs": [],
   "source": [
    "def bad_mix(list_of_date):\n",
    "    \n",
    "    list_of_date = list(list_of_date)\n",
    "    \n",
    "    date_mix = []\n",
    "    s = 1\n",
    "    \n",
    "    for i in range(len(list_of_date) - 1):\n",
    "        if list_of_date[i] == list_of_date[i+1]:\n",
    "            s += 1\n",
    "            date_mix.append(s)\n",
    "        else:\n",
    "            s = 1\n",
    "    return date_mix.count(5)"
   ]
  },
  {
   "cell_type": "code",
   "execution_count": 262,
   "metadata": {},
   "outputs": [
    {
     "name": "stdout",
     "output_type": "stream",
     "text": [
      "CPU times: user 65.8 ms, sys: 311 ms, total: 377 ms\n",
      "Wall time: 1min 31s\n"
     ]
    },
    {
     "data": {
      "text/plain": [
       "(0, 1, 0, 0, 1, 3, 4, 3, 1, 1, 3, 4, 1, 1, 1, 1, 0, 0, 5, 2, 2, 1, 2, 1, 0, 1)"
      ]
     },
     "execution_count": 262,
     "metadata": {},
     "output_type": "execute_result"
    }
   ],
   "source": [
    "%%time\n",
    "\n",
    "review_with_rating_date.map_partitions(bad_mix).compute()"
   ]
  },
  {
   "cell_type": "code",
   "execution_count": 265,
   "metadata": {},
   "outputs": [
    {
     "data": {
      "text/plain": [
       "39"
      ]
     },
     "execution_count": 265,
     "metadata": {},
     "output_type": "execute_result"
    }
   ],
   "source": [
    "sum([0, 1, 0, 0, 1, 3, 4, 3, 1, 1, 3, 4, 1, 1, 1, 1, 0, 0, 5, 2, 2, 1, 2, 1, 0, 1])"
   ]
  },
  {
   "cell_type": "code",
   "execution_count": 269,
   "metadata": {},
   "outputs": [],
   "source": [
    "def bad_mix(list_of_date):\n",
    "    \n",
    "    list_of_date = list(list_of_date)\n",
    "    \n",
    "    date_mix = []\n",
    "    s = 1\n",
    "    \n",
    "    for i in range(len(list_of_date) - 1):\n",
    "        if list_of_date[i] == list_of_date[i+1]:\n",
    "            s += 1\n",
    "            date_mix.append(s)\n",
    "            if s == 5:\n",
    "                return (1, )\n",
    "        else:\n",
    "            s = 1\n",
    "    return (0, )"
   ]
  },
  {
   "cell_type": "code",
   "execution_count": 270,
   "metadata": {},
   "outputs": [
    {
     "name": "stdout",
     "output_type": "stream",
     "text": [
      "CPU times: user 68.3 ms, sys: 307 ms, total: 376 ms\n",
      "Wall time: 1min 36s\n"
     ]
    },
    {
     "data": {
      "text/plain": [
       "20"
      ]
     },
     "execution_count": 270,
     "metadata": {},
     "output_type": "execute_result"
    }
   ],
   "source": [
    "%%time\n",
    "\n",
    "review_with_rating_date.map_partitions(bad_mix).sum().compute()"
   ]
  },
  {
   "cell_type": "code",
   "execution_count": 266,
   "metadata": {},
   "outputs": [
    {
     "data": {
      "text/plain": [
       "26"
      ]
     },
     "execution_count": 266,
     "metadata": {},
     "output_type": "execute_result"
    }
   ],
   "source": [
    "review_with_rating_date.npartitions"
   ]
  },
  {
   "cell_type": "markdown",
   "metadata": {},
   "source": [
    "9\\. Используя метод `foldby`, подсчитайте и выведите на экран максимальную длину отзывов в зависимости от оценки `rating` в наборе, полученном в задании 2."
   ]
  },
  {
   "cell_type": "code",
   "execution_count": 275,
   "metadata": {},
   "outputs": [],
   "source": [
    "max_len_review_with_rating = review_with_rating.foldby(\n",
    "        key = lambda p: p['rating'], #ключ для группировки\n",
    "        binop = lambda new, p: max(new, len(p['review']) if p['review'] else 0), #текущий и новый - по итогу новый\n",
    "        initial = 0, \n",
    "        combine = lambda one, two: max(one, two) #итог\n",
    ")"
   ]
  },
  {
   "cell_type": "code",
   "execution_count": 276,
   "metadata": {},
   "outputs": [
    {
     "data": {
      "text/plain": [
       "[(0, 6972), (1, 5567), (2, 6972), (3, 4954), (4, 8587), (5, 8587)]"
      ]
     },
     "execution_count": 276,
     "metadata": {},
     "output_type": "execute_result"
    }
   ],
   "source": [
    "max_len_review_with_rating.compute()"
   ]
  },
  {
   "cell_type": "code",
   "execution_count": null,
   "metadata": {},
   "outputs": [],
   "source": []
  }
 ],
 "metadata": {
  "kernelspec": {
   "display_name": "Python 3 (ipykernel)",
   "language": "python",
   "name": "python3"
  },
  "language_info": {
   "codemirror_mode": {
    "name": "ipython",
    "version": 3
   },
   "file_extension": ".py",
   "mimetype": "text/x-python",
   "name": "python",
   "nbconvert_exporter": "python",
   "pygments_lexer": "ipython3",
   "version": "3.9.12"
  }
 },
 "nbformat": 4,
 "nbformat_minor": 4
}
