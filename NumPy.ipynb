{
 "cells": [
  {
   "cell_type": "markdown",
   "metadata": {},
   "source": [
    "# Numpy"
   ]
  },
  {
   "cell_type": "code",
   "execution_count": 1,
   "metadata": {},
   "outputs": [],
   "source": [
    "import numpy as np"
   ]
  },
  {
   "cell_type": "markdown",
   "metadata": {},
   "source": [
    "Материалы:\n",
    "* Макрушин С.В. \"Лекция 1: Библиотека Numpy\"\n",
    "* https://numpy.org/doc/stable/user/index.html\n",
    "* https://numpy.org/doc/stable/reference/index.html\n",
    "* Уэс Маккини. Python и анализ данных"
   ]
  },
  {
   "cell_type": "markdown",
   "metadata": {},
   "source": [
    "## Задачи для совместного разбора"
   ]
  },
  {
   "cell_type": "markdown",
   "metadata": {},
   "source": [
    "1. Сгенерировать двухмерный массив `arr` размерности (4, 7), состоящий из случайных действительных чисел, равномерно распределенных в диапазоне от 0 до 20. Нормализовать значения массива с помощью преобразования вида  $𝑎𝑥+𝑏$  так, что после нормализации максимальный элемент масcива будет равен 1.0, минимальный 0.0"
   ]
  },
  {
   "cell_type": "code",
   "execution_count": 3,
   "metadata": {},
   "outputs": [
    {
     "data": {
      "text/plain": [
       "array([[ 6.6243572 ,  3.05082271,  0.22268095, 16.62698999, 19.48962673,\n",
       "        11.58465645, 12.17639219],\n",
       "       [ 6.85325638,  6.80560614,  8.63946656, 19.21942907,  6.46360889,\n",
       "         4.3740066 , 16.2964849 ],\n",
       "       [ 1.47946804, 13.49538657,  0.36618562,  7.72815129,  0.03707213,\n",
       "        11.34125579,  2.13894697],\n",
       "       [ 9.35947257, 16.97868587, 18.44363127,  0.22172671,  4.36932063,\n",
       "         7.43988679,  8.93568695]])"
      ]
     },
     "execution_count": 3,
     "metadata": {},
     "output_type": "execute_result"
    }
   ],
   "source": [
    "arr = np.random.uniform(low = 0, high = 20, size = (4, 7))\n",
    "arr"
   ]
  },
  {
   "cell_type": "code",
   "execution_count": 5,
   "metadata": {},
   "outputs": [
    {
     "data": {
      "text/plain": [
       "array([[0.33863342, 0.15492827, 0.00954162, 0.85284006, 1.        ,\n",
       "        0.59362817, 0.6240476 ],\n",
       "       [0.35040047, 0.34795091, 0.44222441, 0.98610991, 0.33036981,\n",
       "        0.22294935, 0.83584974],\n",
       "       [0.07414943, 0.69185332, 0.01691878, 0.3953763 , 0.        ,\n",
       "        0.58111564, 0.10805135],\n",
       "       [0.47923785, 0.87091974, 0.94622838, 0.00949256, 0.22270846,\n",
       "        0.38055745, 0.45745225]])"
      ]
     },
     "execution_count": 5,
     "metadata": {},
     "output_type": "execute_result"
    }
   ],
   "source": [
    "(arr - arr.min())/(arr.max() - arr.min())"
   ]
  },
  {
   "cell_type": "markdown",
   "metadata": {},
   "source": [
    "2. Создать матрицу 8 на 10 из случайных целых (используя модуль `numpy.random`) чисел из диапозона от 0 до 10 и найти в ней строку (ее индекс и вывести саму строку), в которой сумма значений минимальна."
   ]
  },
  {
   "cell_type": "code",
   "execution_count": 7,
   "metadata": {},
   "outputs": [
    {
     "data": {
      "text/plain": [
       "array([[ 0,  3,  9,  3,  9,  8,  9,  5,  0,  9],\n",
       "       [10,  5, 10,  6, 10,  2,  6,  9,  6,  0],\n",
       "       [ 3,  1,  3,  3, 10, 10, 10,  1,  5,  1],\n",
       "       [ 0,  9,  0, 10, 10,  4,  1,  9,  6,  6],\n",
       "       [ 6, 10,  5,  4,  3, 10,  7,  5,  0,  5],\n",
       "       [ 8,  3,  2,  5,  4,  1,  2,  8,  8,  2],\n",
       "       [ 0,  5,  5,  3,  7,  1,  0,  8,  9, 10],\n",
       "       [ 0,  6,  4,  1,  8,  5,  8,  2,  5,  8]])"
      ]
     },
     "execution_count": 7,
     "metadata": {},
     "output_type": "execute_result"
    }
   ],
   "source": [
    "arr = np.random.randint(low = 0, high = 11, size = (8, 10))\n",
    "arr"
   ]
  },
  {
   "cell_type": "code",
   "execution_count": 9,
   "metadata": {},
   "outputs": [
    {
     "data": {
      "text/plain": [
       "array([55, 64, 47, 55, 55, 43, 48, 47])"
      ]
     },
     "execution_count": 9,
     "metadata": {},
     "output_type": "execute_result"
    }
   ],
   "source": [
    "sim_by_rows = arr.sum(axis = 1)\n",
    "sim_by_rows"
   ]
  },
  {
   "cell_type": "code",
   "execution_count": 10,
   "metadata": {},
   "outputs": [
    {
     "data": {
      "text/plain": [
       "5"
      ]
     },
     "execution_count": 10,
     "metadata": {},
     "output_type": "execute_result"
    }
   ],
   "source": [
    "sim_by_rows.argmin()"
   ]
  },
  {
   "cell_type": "code",
   "execution_count": 12,
   "metadata": {},
   "outputs": [
    {
     "data": {
      "text/plain": [
       "array([8, 3, 2, 5, 4, 1, 2, 8, 8, 2])"
      ]
     },
     "execution_count": 12,
     "metadata": {},
     "output_type": "execute_result"
    }
   ],
   "source": [
    "arr[sim_by_rows.argmin(), :]"
   ]
  },
  {
   "cell_type": "markdown",
   "metadata": {},
   "source": [
    "3. Найти евклидово расстояние между двумя одномерными векторами одинаковой размерности."
   ]
  },
  {
   "cell_type": "code",
   "execution_count": null,
   "metadata": {},
   "outputs": [],
   "source": []
  },
  {
   "cell_type": "markdown",
   "metadata": {},
   "source": [
    "4. Решить матричное уравнение `A*X*B=-C` - найти матрицу `X`. Где `A = [[-1, 2, 4], [-3, 1, 2], [-3, 0, 1]]`, `B=[[3, -1], [2, 1]]`, `C=[[7, 21], [11, 8], [8, 4]]`."
   ]
  },
  {
   "cell_type": "code",
   "execution_count": 14,
   "metadata": {},
   "outputs": [],
   "source": [
    "A = np.array([[-1, 2, 4], [-3, 1, 2], [-3, 0, 1]])\n",
    "B = np.array([[3, -1], [2, 1]])\n",
    "C = np.array([[7, 21], [11, 8], [8, 4]])"
   ]
  },
  {
   "cell_type": "code",
   "execution_count": 16,
   "metadata": {},
   "outputs": [
    {
     "data": {
      "text/plain": [
       "array([[ 1.00000000e+00,  1.02140518e-15],\n",
       "       [-2.00000000e+00,  1.00000000e+00],\n",
       "       [ 3.00000000e+00, -4.00000000e+00]])"
      ]
     },
     "execution_count": 16,
     "metadata": {},
     "output_type": "execute_result"
    }
   ],
   "source": [
    "X = np.linalg.inv(A) @ (-C) @ np.linalg.inv(B)\n",
    "X"
   ]
  },
  {
   "cell_type": "markdown",
   "metadata": {},
   "source": [
    "## Лабораторная работа №1"
   ]
  },
  {
   "cell_type": "markdown",
   "metadata": {},
   "source": [
    "__При решении данных задач не подразумевается использования циклов или генераторов Python, если в задании не сказано обратного. Решение должно опираться на использования функционала библиотеки `numpy`.__"
   ]
  },
  {
   "cell_type": "markdown",
   "metadata": {},
   "source": [
    "1. Файл `minutes_n_ingredients.csv` содержит информацию об идентификаторе рецепта, времени его выполнения в минутах и количестве необходимых ингредиентов. Считайте данные из этого файла в виде массива `numpy` типа `int32`, используя `np.loadtxt`. Выведите на экран первые 5 строк массива."
   ]
  },
  {
   "cell_type": "code",
   "execution_count": 2,
   "metadata": {},
   "outputs": [
    {
     "data": {
      "text/plain": [
       "array([[127244,     60,     16],\n",
       "       [ 23891,     25,      7],\n",
       "       [ 94746,     10,      6],\n",
       "       [ 67660,      5,      6],\n",
       "       [157911,     60,     14]], dtype=int32)"
      ]
     },
     "execution_count": 2,
     "metadata": {},
     "output_type": "execute_result"
    }
   ],
   "source": [
    "minutes_n_ingredients_arr = np.loadtxt('minutes_n_ingredients.csv', dtype = 'int32',\n",
    "                                       skiprows = 1, delimiter = ',')\n",
    "\n",
    "minutes_n_ingredients_arr[:5]"
   ]
  },
  {
   "cell_type": "markdown",
   "metadata": {},
   "source": [
    "2. Вычислите среднее значение, минимум, максимум и медиану по каждому из столбцов, кроме первого."
   ]
  },
  {
   "cell_type": "code",
   "execution_count": 36,
   "metadata": {},
   "outputs": [
    {
     "data": {
      "text/plain": [
       "array([2.16010017e+04, 9.05528000e+00])"
      ]
     },
     "execution_count": 36,
     "metadata": {},
     "output_type": "execute_result"
    }
   ],
   "source": [
    "mean_minutes_n_ingredients_arr = np.mean(minutes_n_ingredients_arr[:,1:], axis = 0)\n",
    "mean_minutes_n_ingredients_arr"
   ]
  },
  {
   "cell_type": "code",
   "execution_count": 33,
   "metadata": {},
   "outputs": [
    {
     "data": {
      "text/plain": [
       "array([0, 1], dtype=int32)"
      ]
     },
     "execution_count": 33,
     "metadata": {},
     "output_type": "execute_result"
    }
   ],
   "source": [
    "min_minutes_n_ingredients_arr = np.min(minutes_n_ingredients_arr[:,1:], axis = 0)\n",
    "min_minutes_n_ingredients_arr"
   ]
  },
  {
   "cell_type": "code",
   "execution_count": 34,
   "metadata": {},
   "outputs": [
    {
     "data": {
      "text/plain": [
       "array([2147483647,         39], dtype=int32)"
      ]
     },
     "execution_count": 34,
     "metadata": {},
     "output_type": "execute_result"
    }
   ],
   "source": [
    "max_minutes_n_ingredients_arr = np.max(minutes_n_ingredients_arr[:,1:], axis = 0)\n",
    "max_minutes_n_ingredients_arr"
   ]
  },
  {
   "cell_type": "code",
   "execution_count": 35,
   "metadata": {},
   "outputs": [
    {
     "data": {
      "text/plain": [
       "array([40.,  9.])"
      ]
     },
     "execution_count": 35,
     "metadata": {},
     "output_type": "execute_result"
    }
   ],
   "source": [
    "median_minutes_n_ingredients_arr = np.median(minutes_n_ingredients_arr[:,1:], axis = 0)\n",
    "median_minutes_n_ingredients_arr"
   ]
  },
  {
   "cell_type": "markdown",
   "metadata": {},
   "source": [
    "3. Выберите случайным образом и выведите информацию о 10 различных рецептах"
   ]
  },
  {
   "cell_type": "code",
   "execution_count": 28,
   "metadata": {},
   "outputs": [
    {
     "data": {
      "text/plain": [
       "array([[182492,     15,     10],\n",
       "       [ 62632,      5,      8],\n",
       "       [369282,     25,     11],\n",
       "       [418635,     90,     10],\n",
       "       [101618,     20,     10],\n",
       "       [ 26983,     67,      8],\n",
       "       [214874,     40,      8],\n",
       "       [101195,     75,     10],\n",
       "       [ 25502,    120,      9],\n",
       "       [175797,   2165,      8]], dtype=int32)"
      ]
     },
     "execution_count": 28,
     "metadata": {},
     "output_type": "execute_result"
    }
   ],
   "source": [
    "random_different_recipe = np.random.choice(len(minutes_n_ingredients_arr), 10, replace = False)\n",
    "minutes_n_ingredients_arr[random_different_recipe]"
   ]
  },
  {
   "cell_type": "markdown",
   "metadata": {},
   "source": [
    "4. Создайте версию массива, содержащую информацию только о рецептах, состоящих не более чем из 5 ингредиентов."
   ]
  },
  {
   "cell_type": "code",
   "execution_count": 30,
   "metadata": {},
   "outputs": [
    {
     "data": {
      "text/plain": [
       "17262"
      ]
     },
     "execution_count": 30,
     "metadata": {},
     "output_type": "execute_result"
    }
   ],
   "source": [
    "minutes_n_ingredients_less_6 = np.where(minutes_n_ingredients_arr[:, 2] <= 5)[0]\n",
    "len(minutes_n_ingredients_less_6)"
   ]
  },
  {
   "cell_type": "code",
   "execution_count": 34,
   "metadata": {},
   "outputs": [
    {
     "data": {
      "text/plain": [
       "array([[446597,     15,      5],\n",
       "       [204134,      5,      3],\n",
       "       [ 25623,      6,      4],\n",
       "       ...,\n",
       "       [ 52088,     60,      5],\n",
       "       [128811,     15,      4],\n",
       "       [370915,      5,      4]], dtype=int32)"
      ]
     },
     "execution_count": 34,
     "metadata": {},
     "output_type": "execute_result"
    }
   ],
   "source": [
    "minutes_n_ingredients_less_6_ma = minutes_n_ingredients_arr[minutes_n_ingredients_less_6]\n",
    "minutes_n_ingredients_less_6_ma"
   ]
  },
  {
   "cell_type": "markdown",
   "metadata": {},
   "source": [
    "5. Выведите процент рецептов, кол-во ингредиентов в которых меньше среднего."
   ]
  },
  {
   "cell_type": "code",
   "execution_count": 37,
   "metadata": {},
   "outputs": [
    {
     "data": {
      "text/plain": [
       "58.802"
      ]
     },
     "execution_count": 37,
     "metadata": {},
     "output_type": "execute_result"
    }
   ],
   "source": [
    "minutes_n_ingredients_less_mean = np.where(minutes_n_ingredients_arr[:, 2] < mean_minutes_n_ingredients_arr[1])[0]\n",
    "\n",
    "len(minutes_n_ingredients_less_mean)/len(minutes_n_ingredients_arr) * 100"
   ]
  },
  {
   "cell_type": "markdown",
   "metadata": {},
   "source": [
    "6. Вычислите значение $q_{0.75}$ третьего квартиля продолжительности выполнения рецепта. Замените в этом столбце значения, большие чем $q_{0.75}$ на величину $q_{0.75}$."
   ]
  },
  {
   "cell_type": "code",
   "execution_count": 38,
   "metadata": {},
   "outputs": [
    {
     "data": {
      "text/plain": [
       "65.0"
      ]
     },
     "execution_count": 38,
     "metadata": {},
     "output_type": "execute_result"
    }
   ],
   "source": [
    "np.quantile(minutes_n_ingredients_arr[:, 1], 0.75)"
   ]
  },
  {
   "cell_type": "code",
   "execution_count": 59,
   "metadata": {},
   "outputs": [
    {
     "data": {
      "text/plain": [
       "array([60., 25., 10., ..., 65.,  5., 65.])"
      ]
     },
     "execution_count": 59,
     "metadata": {},
     "output_type": "execute_result"
    }
   ],
   "source": [
    "minutes_n_ingredients_quantile_recipe = np.quantile(minutes_n_ingredients_arr[:, 1], 0.75)\n",
    "np.where(minutes_n_ingredients_arr[:, 1] < np.quantile(minutes_n_ingredients_arr[:, 1], 0.75),\n",
    "         minutes_n_ingredients_arr[:, 1],\n",
    "        np.quantile(minutes_n_ingredients_arr[:, 1], 0.75))"
   ]
  },
  {
   "cell_type": "markdown",
   "metadata": {},
   "source": [
    "7. Посчитайте, для скольких рецептов исходного массива указана продолжительность, равная нулю. Модифицируйте исходный массив, заменив для таких строк значение в данном столбце на 1."
   ]
  },
  {
   "cell_type": "code",
   "execution_count": 63,
   "metadata": {},
   "outputs": [
    {
     "data": {
      "text/plain": [
       "479"
      ]
     },
     "execution_count": 63,
     "metadata": {},
     "output_type": "execute_result"
    }
   ],
   "source": [
    "len(np.where(minutes_n_ingredients_arr[:,1] == 0)[0])"
   ]
  },
  {
   "cell_type": "code",
   "execution_count": 121,
   "metadata": {},
   "outputs": [],
   "source": [
    "minutes_n_ingredients_arr[:,1] = np.where(minutes_n_ingredients_arr[:,1] == 0, 1, minutes_n_ingredients_arr[:,1])"
   ]
  },
  {
   "cell_type": "markdown",
   "metadata": {},
   "source": [
    "8. Найдите множество возможных значений величины количества ингредиентов и количество вхождений каждого из уникальных значений в набор данных. Используя `numpy.isin`, выясните, какие числа из отрезка [1, 41] отсуствуют в данном множестве и выведите их на экран. "
   ]
  },
  {
   "cell_type": "code",
   "execution_count": 83,
   "metadata": {},
   "outputs": [
    {
     "data": {
      "text/plain": [
       "(array([ 1,  2,  3,  4,  5,  6,  7,  8,  9, 10, 11, 12, 13, 14, 15, 16, 17,\n",
       "        18, 19, 20, 21, 22, 23, 24, 25, 26, 27, 28, 29, 30, 31, 32, 33, 34,\n",
       "        35, 37, 39], dtype=int32),\n",
       " array([   13,   926,  2895,  5515,  7913,  9376, 10628, 10951, 10585,\n",
       "         9591,  8297,  6605,  4997,  3663,  2595,  1767,  1246,   790,\n",
       "          573,   376,   217,   161,   105,    69,    50,    28,    16,\n",
       "           16,    12,    12,     3,     1,     2,     1,     3,     1,\n",
       "            1]))"
      ]
     },
     "execution_count": 83,
     "metadata": {},
     "output_type": "execute_result"
    }
   ],
   "source": [
    "np.unique(minutes_n_ingredients_arr[:,2], return_counts=True)"
   ]
  },
  {
   "cell_type": "code",
   "execution_count": 106,
   "metadata": {},
   "outputs": [
    {
     "data": {
      "text/plain": [
       "array([36, 38, 40, 41])"
      ]
     },
     "execution_count": 106,
     "metadata": {},
     "output_type": "execute_result"
    }
   ],
   "source": [
    "mask = np.isin(np.arange(1,42), np.unique(minutes_n_ingredients_arr[:,2]))\n",
    "np.arange(1,42)[np.logical_not(mask)]"
   ]
  },
  {
   "cell_type": "markdown",
   "metadata": {},
   "source": [
    "9. Для каждого рецепта посчитайте, сколько в среднем ингредиентов приходится на одну минуту рецепта. Найдите максимальное значение этой величины для всего датасета."
   ]
  },
  {
   "cell_type": "code",
   "execution_count": 125,
   "metadata": {},
   "outputs": [
    {
     "data": {
      "text/plain": [
       "array([0.26666667, 0.28      , 0.6       , ..., 0.23076923, 0.8       ,\n",
       "       0.1       ])"
      ]
     },
     "execution_count": 125,
     "metadata": {},
     "output_type": "execute_result"
    }
   ],
   "source": [
    "mean_ingredients = minutes_n_ingredients_arr[:,2]/minutes_n_ingredients_arr[:,1]\n",
    "mean_ingredients"
   ]
  },
  {
   "cell_type": "code",
   "execution_count": 126,
   "metadata": {},
   "outputs": [
    {
     "data": {
      "text/plain": [
       "24.0"
      ]
     },
     "execution_count": 126,
     "metadata": {},
     "output_type": "execute_result"
    }
   ],
   "source": [
    "max(mean_ingredients)"
   ]
  },
  {
   "cell_type": "markdown",
   "metadata": {},
   "source": [
    "10. Вычислите среднее количество ингредиентов для топ-100 рецептов с наибольшей продолжительностью"
   ]
  },
  {
   "cell_type": "code",
   "execution_count": 212,
   "metadata": {},
   "outputs": [
    {
     "data": {
      "text/plain": [
       "227.87"
      ]
     },
     "execution_count": 212,
     "metadata": {},
     "output_type": "execute_result"
    }
   ],
   "source": [
    "minutes_n_ingredients_arr_top100 = np.copy(minutes_n_ingredients_arr)\n",
    "\n",
    "minutes_n_ingredients_arr_top100 = minutes_n_ingredients_arr_top100[\n",
    "    minutes_n_ingredients_arr_top100[:, 2].argsort()]\n",
    "minutes_n_ingredients_arr_top100 = minutes_n_ingredients_arr_top100[::-1]\n",
    "minutes_n_ingredients_arr_top100 = minutes_n_ingredients_arr_top100[:100]\n",
    "np.mean(minutes_n_ingredients_arr_top100[:, 1])"
   ]
  },
  {
   "cell_type": "markdown",
   "metadata": {},
   "source": [
    "11. Назовем \"простым\" такой рецепт, длительность выполнения которого не больше 20 минут и кол-во ингредиентов в котором не больше 5. Создайте версию датасета с дополнительным столбцом, значениями которого являются 1, если рецепт простой, и 0 в противном случае. Выведите процент \"простых\" рецептов в датасете."
   ]
  },
  {
   "cell_type": "code",
   "execution_count": 182,
   "metadata": {},
   "outputs": [
    {
     "data": {
      "text/plain": [
       "array([[127244,     60,     16,      0],\n",
       "       [ 23891,     25,      7,      0],\n",
       "       [ 94746,     10,      6,      0],\n",
       "       ...,\n",
       "       [498432,     65,     15,      0],\n",
       "       [370915,      5,      4,      1],\n",
       "       [ 81993,    140,     14,      0]])"
      ]
     },
     "execution_count": 182,
     "metadata": {},
     "output_type": "execute_result"
    }
   ],
   "source": [
    "minutes_n_ingredients_arr_11 = np.where((minutes_n_ingredients_arr[:,1] <= 20)\n",
    "                                        & (minutes_n_ingredients_arr[:,2] <= 5), \n",
    "                                        1, 0)\n",
    "minutes_n_ingredients_arr_prost = np.copy(minutes_n_ingredients_arr)\n",
    "minutes_n_ingredients_arr_prost = np.hstack((minutes_n_ingredients_arr_prost,\n",
    "                                             minutes_n_ingredients_arr_11[:, np.newaxis]))\n",
    "minutes_n_ingredients_arr_prost"
   ]
  },
  {
   "cell_type": "code",
   "execution_count": 186,
   "metadata": {},
   "outputs": [
    {
     "data": {
      "text/plain": [
       "0.09552"
      ]
     },
     "execution_count": 186,
     "metadata": {},
     "output_type": "execute_result"
    }
   ],
   "source": [
    "sum(minutes_n_ingredients_arr_prost[:,3])/len(minutes_n_ingredients_arr_prost[:,3])"
   ]
  },
  {
   "cell_type": "markdown",
   "metadata": {},
   "source": [
    "12. Разделим рецепты на группы по следующему правилу. Назовем рецепты короткими, если их продолжительность составляет менее 10 минут; стандартными, если их продолжительность составляет не менее 10, но менее 20 минут; и длинными, если их продолжительность составляет не менее 20 минут. Создайте трехмерный массив, где нулевая ось отвечает за номер группы (короткий, стандартный или длинный рецепт), первая ось - за сам рецепт и вторая ось - за характеристики рецепта. Выберите максимальное количество рецептов из каждой группы таким образом, чтобы было возможно сформировать трехмерный массив. Выведите форму полученного массива."
   ]
  },
  {
   "cell_type": "code",
   "execution_count": 25,
   "metadata": {},
   "outputs": [
    {
     "data": {
      "text/plain": [
       "array([[    3,     8,    13, ..., 99980, 99985, 99998],\n",
       "       [    2,     6,     7, ..., 59871, 59874, 59883],\n",
       "       [    0,     1,     4, ...,  9539,  9540,  9541]])"
      ]
     },
     "execution_count": 25,
     "metadata": {},
     "output_type": "execute_result"
    }
   ],
   "source": [
    "minutes_n_ingredients_arr_duration_0 = np.where((minutes_n_ingredients_arr[:,1] < 10))[0]\n",
    "minutes_n_ingredients_arr_duration_1 = np.where((minutes_n_ingredients_arr[:,1] < 20)\n",
    "                                        & (minutes_n_ingredients_arr[:,1] >= 10))[0]\n",
    "minutes_n_ingredients_arr_duration_2 = np.where(minutes_n_ingredients_arr[:,1] >= 20)[0]\n",
    "\n",
    "min_minutes_n_ingredients = min(len(minutes_n_ingredients_arr_duration_0),\n",
    "                                len(minutes_n_ingredients_arr_duration_1), \n",
    "                                len(minutes_n_ingredients_arr_duration_2))\n",
    "\n",
    "minutes_n_ingredients_arr_duration_0 = minutes_n_ingredients_arr_duration_0[:min_minutes_n_ingredients]\n",
    "minutes_n_ingredients_arr_duration_1 = minutes_n_ingredients_arr_duration_1[:min_minutes_n_ingredients]\n",
    "minutes_n_ingredients_arr_duration_2 = minutes_n_ingredients_arr_duration_2[:min_minutes_n_ingredients]\n",
    "\n",
    "np.array([minutes_n_ingredients_arr_duration_0, \n",
    "          minutes_n_ingredients_arr_duration_1, \n",
    "          minutes_n_ingredients_arr_duration_2])"
   ]
  },
  {
   "cell_type": "code",
   "execution_count": 28,
   "metadata": {},
   "outputs": [
    {
     "data": {
      "text/plain": [
       "array([[[446597,     15,      5],\n",
       "        [328135,     15,      6],\n",
       "        [ 95046,     15,      6],\n",
       "        ...,\n",
       "        [ 60756,     15,      5],\n",
       "        [128811,     15,      4],\n",
       "        [ 81993,    140,     14]],\n",
       "\n",
       "       [[152828,     40,      7],\n",
       "        [366174,      7,      9],\n",
       "        [ 74205,     20,      7],\n",
       "        ...,\n",
       "        [436573,     40,      6],\n",
       "        [315747,     20,      3],\n",
       "        [ 28743,     40,     10]],\n",
       "\n",
       "       [[127244,     60,     16],\n",
       "        [ 23891,     25,      7],\n",
       "        [ 94746,     10,      6],\n",
       "        ...,\n",
       "        [354944,     60,      9],\n",
       "        [310051,     10,      8],\n",
       "        [ 96737,     60,     16]]], dtype=int32)"
      ]
     },
     "execution_count": 28,
     "metadata": {},
     "output_type": "execute_result"
    }
   ],
   "source": [
    "minutes_n_ingredients_arr_duration_0 = minutes_n_ingredients_arr[np.isin(minutes_n_ingredients_arr[:,1],\n",
    "                                        np.where((minutes_n_ingredients_arr[:,1] < 10))[0])]\n",
    "minutes_n_ingredients_arr_duration_1 = minutes_n_ingredients_arr[np.isin(minutes_n_ingredients_arr[:,1],\n",
    "                                        np.where((minutes_n_ingredients_arr[:,1] < 20)\n",
    "                                        & (minutes_n_ingredients_arr[:,1] >= 10))[0])]\n",
    "minutes_n_ingredients_arr_duration_2 = minutes_n_ingredients_arr[np.isin(minutes_n_ingredients_arr[:,1],\n",
    "                                        np.where(minutes_n_ingredients_arr[:,1] >= 20)[0])]\n",
    "\n",
    "min_minutes_n_ingredients = min(len(minutes_n_ingredients_arr_duration_0),\n",
    "                                len(minutes_n_ingredients_arr_duration_1),\n",
    "                                len(minutes_n_ingredients_arr_duration_2))\n",
    "\n",
    "minutes_n_ingredients_arr_duration_0 = minutes_n_ingredients_arr_duration_0[:min_minutes_n_ingredients]\n",
    "minutes_n_ingredients_arr_duration_1 = minutes_n_ingredients_arr_duration_1[:min_minutes_n_ingredients]\n",
    "minutes_n_ingredients_arr_duration_2 = minutes_n_ingredients_arr_duration_2[:min_minutes_n_ingredients]\n",
    "\n",
    "np.array([minutes_n_ingredients_arr_duration_0,\n",
    "          minutes_n_ingredients_arr_duration_1,\n",
    "          minutes_n_ingredients_arr_duration_2])"
   ]
  },
  {
   "cell_type": "markdown",
   "metadata": {},
   "source": [
    "13. Пусть в среднем одна минута работы повара стоит ресторану 5 ед., а средняя стоимость одного ингредиента составляет 10 ед. \n",
    "Создайте вектор-столбец `numpy`, содержащий данную информацию. Посчитайте среднюю стоимость приготовления для каждого из первых 10 рецептов в наборе данных."
   ]
  },
  {
   "cell_type": "code",
   "execution_count": 203,
   "metadata": {},
   "outputs": [
    {
     "data": {
      "text/plain": [
       "216.0"
      ]
     },
     "execution_count": 203,
     "metadata": {},
     "output_type": "execute_result"
    }
   ],
   "source": [
    "minutes_n_ingredients_arr_money = np.copy(minutes_n_ingredients_arr)\n",
    "minutes_n_ingredients_arr_money[:,1] = 5 * minutes_n_ingredients_arr_money[:,1]\n",
    "minutes_n_ingredients_arr_money[:,2] = 10 * minutes_n_ingredients_arr_money[:,2]\n",
    "np.mean(minutes_n_ingredients_arr_money[:10,1] + minutes_n_ingredients_arr_money[:10,2])"
   ]
  },
  {
   "cell_type": "code",
   "execution_count": 197,
   "metadata": {},
   "outputs": [
    {
     "data": {
      "text/plain": [
       "array([[127244,    300,    160],\n",
       "       [ 23891,    125,     70],\n",
       "       [ 94746,     50,     60],\n",
       "       ...,\n",
       "       [498432,    325,    150],\n",
       "       [370915,     25,     40],\n",
       "       [ 81993,    700,    140]], dtype=int32)"
      ]
     },
     "execution_count": 197,
     "metadata": {},
     "output_type": "execute_result"
    }
   ],
   "source": [
    "minutes_n_ingredients_arr_money"
   ]
  },
  {
   "cell_type": "code",
   "execution_count": null,
   "metadata": {},
   "outputs": [],
   "source": []
  }
 ],
 "metadata": {
  "kernelspec": {
   "display_name": "Python 3 (ipykernel)",
   "language": "python",
   "name": "python3"
  },
  "language_info": {
   "codemirror_mode": {
    "name": "ipython",
    "version": 3
   },
   "file_extension": ".py",
   "mimetype": "text/x-python",
   "name": "python",
   "nbconvert_exporter": "python",
   "pygments_lexer": "ipython3",
   "version": "3.9.12"
  }
 },
 "nbformat": 4,
 "nbformat_minor": 4
}
